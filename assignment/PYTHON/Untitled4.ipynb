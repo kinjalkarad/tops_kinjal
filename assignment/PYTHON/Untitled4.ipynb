{
  "nbformat": 4,
  "nbformat_minor": 0,
  "metadata": {
    "colab": {
      "provenance": []
    },
    "kernelspec": {
      "name": "python3",
      "display_name": "Python 3"
    },
    "language_info": {
      "name": "python"
    }
  },
  "cells": [
    {
      "cell_type": "code",
      "execution_count": null,
      "metadata": {
        "id": "QorRVG33Ns2B"
      },
      "outputs": [],
      "source": [
        "#1)\tWhat are the types of Applications?\n",
        "# \tDesktop Applications\n",
        "# \tWeb Applications\n",
        "# \tMobile Applications\n",
        "# \tCloud Applications\n",
        "# \tEnterprise Applications\n",
        "#   Hybrid Applications\n",
        "# \tGaming Applications\n",
        "# \tEmbedded Applications\n",
        "\n",
        "# \tWhat is programing?\n",
        "#   Programming is the process of writing instructions (code) that a computer can understand and execute to perform tasks.\n",
        "\n",
        "# 3)\tWhat is Python?\n",
        "#   Python is a high-level, easy-to-learn programming language used for building websites, software, data analysis, AI, and more.\n",
        "# 4)\tWrite a Python program to check if a number is positive, negative or zero.?\n",
        ""
      ]
    },
    {
      "cell_type": "code",
      "source": [
        " a= float(input(\"Enter a number: \"))\n",
        " if a > 0 :\n",
        "       print(\"The number is positive.\")\n",
        " elif a < 0:\n",
        "   \t    print(\"The number is negative.\")\n",
        " else:\n",
        "        print(\"The number is zero.\")\n"
      ],
      "metadata": {
        "colab": {
          "base_uri": "https://localhost:8080/"
        },
        "id": "FjfdHCDfPmLU",
        "outputId": "7217e0e9-aff4-48e0-e8e4-afc70d2a5e3e"
      },
      "execution_count": 15,
      "outputs": [
        {
          "output_type": "stream",
          "name": "stdout",
          "text": [
            "Enter a number: 2\n",
            "The number is positive.\n"
          ]
        }
      ]
    },
    {
      "cell_type": "code",
      "source": [
        "# 5)\tWrite a Python program to get the Factorial number of given numbers?"
      ],
      "metadata": {
        "id": "fc6qttGjRMZ6"
      },
      "execution_count": null,
      "outputs": []
    },
    {
      "cell_type": "code",
      "source": [
        "num=int(input(\"Enter a number: \"))\n",
        "if num<0:\n",
        "  print(\"Factorial does not exist for negative numbers\")\n",
        "elif num==0:\n",
        "  print(\"The factorial of 0 is 1\")\n",
        "else:\n",
        "  fact=1\n",
        "  for i in range(1,num+1):\n",
        "    fact=fact*i\n",
        "  print(\"The factorial of\",num,\"is\",fact)"
      ],
      "metadata": {
        "colab": {
          "base_uri": "https://localhost:8080/"
        },
        "id": "KXxhrn1_RQs5",
        "outputId": "db93fa41-68e5-4aa9-aa95-f4187dff19d7"
      },
      "execution_count": 20,
      "outputs": [
        {
          "output_type": "stream",
          "name": "stdout",
          "text": [
            "Enter a number: 12\n",
            "The factorial of 12 is 479001600\n"
          ]
        }
      ]
    },
    {
      "cell_type": "code",
      "source": [
        "# 6)\tWrite a Python program to get the Fibonacci series of given range. ?"
      ],
      "metadata": {
        "id": "0oFJQPQ5Tosg"
      },
      "execution_count": null,
      "outputs": []
    },
    {
      "cell_type": "code",
      "source": [
        "n = int(input(\"Enter how many terms you want: \"))\n",
        "a, b = 0, 1\n",
        "print(\"Fibonacci series:\")\n",
        "for _ in range(n):\n",
        "    print(a, end=\" \")\n",
        "    a, b = b, a + b\n"
      ],
      "metadata": {
        "colab": {
          "base_uri": "https://localhost:8080/"
        },
        "id": "kAiHfn5RWbNp",
        "outputId": "b67bf81d-bfb5-43be-a1c9-56e89df55196"
      },
      "execution_count": 22,
      "outputs": [
        {
          "output_type": "stream",
          "name": "stdout",
          "text": [
            "Enter how many terms you want: 12\n",
            "Fibonacci series:\n",
            "0 1 1 2 3 5 8 13 21 34 55 89 "
          ]
        }
      ]
    },
    {
      "cell_type": "code",
      "source": [
        "# 7)\tHow memory is managed in Python?\n",
        "# Memory in Python is managed through private heap space, reference counting, and garbage collection. Python automatically allocates and frees memory to make programming easier."
      ],
      "metadata": {
        "id": "XH5BBGIiWqxZ"
      },
      "execution_count": null,
      "outputs": []
    },
    {
      "cell_type": "code",
      "source": [
        "# 8)\tWhat is the purpose continuing statement in python?\n",
        "# Python is used to skip the rest of the code inside a loop for the current iteration and move to the next iteration of the loop.he continue statement i"
      ],
      "metadata": {
        "id": "YfFVmaS3XD8e"
      },
      "execution_count": null,
      "outputs": []
    },
    {
      "cell_type": "code",
      "source": [
        "#9)\tWrite python program that swap two number with temp variable and without temp variable.\n",
        "      # Using temp variable\n",
        "a = int(input(\"Enter first number: \"))\n",
        "b = int(input(\"Enter second number: \"))\n",
        "temp = a\n",
        "a = b\n",
        "b = temp\n",
        "print(\"After swapping: a =\", a, \"b =\", b)\n",
        "# Without using temp variable\n",
        "a = int(input(\"Enter first number: \"))\n",
        "b = int(input(\"Enter second number: \"))\n",
        "a, b = b, a\n",
        "print(\"After swapping: a =\", a, \"b =\", b)\n",
        "\n"
      ],
      "metadata": {
        "colab": {
          "base_uri": "https://localhost:8080/"
        },
        "id": "S2mfBDzmXW3N",
        "outputId": "c976d4a8-6f78-4603-da6a-6d1642069d68"
      },
      "execution_count": 23,
      "outputs": [
        {
          "output_type": "stream",
          "name": "stdout",
          "text": [
            "Enter first number: 1\n",
            "Enter second number: 2\n",
            "After swapping: a = 2 b = 1\n",
            "Enter first number: 3\n",
            "Enter second number: 4\n",
            "After swapping: a = 4 b = 3\n"
          ]
        }
      ]
    },
    {
      "cell_type": "code",
      "source": [
        "#10)\tPython program to check if a number is even or odd:\n",
        "t= int(input(\"Enter a number: \"))\n",
        "if t < 0:\n",
        "    print(\"Invalid input\")\n",
        "else:\n",
        " if t % 2 == 0:\n",
        "    print(\"Even number\")\n",
        " else:\n",
        "    print(\"Odd number\")\n",
        "\n"
      ],
      "metadata": {
        "colab": {
          "base_uri": "https://localhost:8080/"
        },
        "id": "Z20ZuxGBXw_p",
        "outputId": "6835c844-1bb9-47df-b5c6-1b03bb005aa2"
      },
      "execution_count": 48,
      "outputs": [
        {
          "output_type": "stream",
          "name": "stdout",
          "text": [
            "Enter a number: 2\n",
            "Even number\n"
          ]
        }
      ]
    },
    {
      "cell_type": "code",
      "source": [
        "#11) Python program to check if a letter is a vowel:\n",
        "letter = input(\"Enter a letter: \").lower()\n",
        "if letter in ['a', 'e', 'i', 'o', 'u']:\n",
        "    print(\"It's a vowel\")\n",
        "else:\n",
        "    print(\"It's not a vowel\")\n"
      ],
      "metadata": {
        "colab": {
          "base_uri": "https://localhost:8080/"
        },
        "id": "DU7Sn3iOaztZ",
        "outputId": "78be2d24-07a0-40ed-e5b8-bdc636dd427a"
      },
      "execution_count": 49,
      "outputs": [
        {
          "output_type": "stream",
          "name": "stdout",
          "text": [
            "Enter a letter: 2\n",
            "It's not a vowel\n"
          ]
        }
      ]
    },
    {
      "cell_type": "code",
      "source": [
        "#12) Python program to sum of three integers; if two values are equal, sum is 0:\n",
        "a = int(input(\"Enter first number: \"))\n",
        "b = int(input(\"Enter second number: \"))\n",
        "c = int(input(\"Enter third number: \"))\n",
        "\n",
        "if a == b or b == c or a == c:\n",
        "    print(\"Sum is 0\")\n",
        "else:\n",
        "    print(\"Sum is:\", a + b + c)\n"
      ],
      "metadata": {
        "colab": {
          "base_uri": "https://localhost:8080/"
        },
        "id": "Vj0zi08LboXu",
        "outputId": "faa8a44d-b1bf-4260-ae64-34b4cc98d78b"
      },
      "execution_count": 51,
      "outputs": [
        {
          "output_type": "stream",
          "name": "stdout",
          "text": [
            "Enter first number: 1\n",
            "Enter second number: 1\n",
            "Enter third number: 2\n",
            "Sum is 0\n"
          ]
        }
      ]
    },
    {
      "cell_type": "code",
      "source": [
        "#13) Python program to return true if two integers are equal or their sum/difference is 5:\n",
        "a = int(input(\"Enter first number: \"))\n",
        "b = int(input(\"Enter second number: \"))\n",
        "\n",
        "if a == b or abs(a - b) == 5 or (a + b) == 5:\n",
        "    print(\"True\")\n",
        "else:\n",
        "    print(\"False\")\n",
        "\n"
      ],
      "metadata": {
        "colab": {
          "base_uri": "https://localhost:8080/"
        },
        "id": "GuZDAOuhb2Xq",
        "outputId": "20b100b2-332c-4a35-a4ef-acc4e98b4e39"
      },
      "execution_count": 52,
      "outputs": [
        {
          "output_type": "stream",
          "name": "stdout",
          "text": [
            "Enter first number: 2\n",
            "Enter second number: 2\n",
            "True\n"
          ]
        }
      ]
    },
    {
      "cell_type": "code",
      "source": [
        "#14) Write a Python program to sum of the first n positive integers:\n",
        "n = int(input(\"Enter a positive number: \"))\n",
        "sum_n = n * (n + 1) // 2\n",
        "print(\"Sum of first\", n, \"positive integers is:\", sum_n)\n"
      ],
      "metadata": {
        "colab": {
          "base_uri": "https://localhost:8080/"
        },
        "id": "v44695bzb-Oc",
        "outputId": "1fd5f35e-98a8-4dd4-d822-9768a9de5c7d"
      },
      "execution_count": 55,
      "outputs": [
        {
          "output_type": "stream",
          "name": "stdout",
          "text": [
            "Enter a positive number: 3\n",
            "Sum of first 3 positive integers is: 6\n"
          ]
        }
      ]
    },
    {
      "cell_type": "code",
      "source": [
        "#15) Write a Python program to calculate the length of a string:\n",
        "string = input(\"Enter a string: \")\n",
        "print(\"Length of the string is:\", len(string))\n"
      ],
      "metadata": {
        "colab": {
          "base_uri": "https://localhost:8080/"
        },
        "id": "N6GJ09dBcIwJ",
        "outputId": "525d7850-1d8f-4abe-ec0c-25b559e9809a"
      },
      "execution_count": 56,
      "outputs": [
        {
          "output_type": "stream",
          "name": "stdout",
          "text": [
            "Enter a string: qwer\n",
            "Length of the string is: 4\n"
          ]
        }
      ]
    },
    {
      "cell_type": "code",
      "source": [
        "#16) Write a Python program to count the number of characters (character frequency) in a string:\n",
        "string = input(\"Enter a string: \")\n",
        "frequency = {}\n",
        "\n",
        "for char in string:\n",
        "    if char in frequency:\n",
        "        frequency[char] += 1\n",
        "    else:\n",
        "        frequency[char] = 1\n",
        "\n",
        "print(\"Character frequency:\")\n",
        "for char, count in frequency.items():\n",
        "    print(f\"{char}: {count}\")\n"
      ],
      "metadata": {
        "colab": {
          "base_uri": "https://localhost:8080/"
        },
        "id": "TfXBZ-2ycqE6",
        "outputId": "0413b346-e954-4d97-b97c-829cf6e01073"
      },
      "execution_count": 58,
      "outputs": [
        {
          "output_type": "stream",
          "name": "stdout",
          "text": [
            "Enter a string: i am kinjal\n",
            "Character frequency:\n",
            "i: 2\n",
            " : 2\n",
            "a: 2\n",
            "m: 1\n",
            "k: 1\n",
            "n: 1\n",
            "j: 1\n",
            "l: 1\n"
          ]
        }
      ]
    },
    {
      "cell_type": "code",
      "source": [
        "#17) What are negative indexes and why are they used?\n",
        "#Negative indexes in Python are used to access elements from the end of a list or string.\n",
        "#•\t-1 refers to the last element,\n",
        "#•\t-2 refers to the second last, and so on.\n",
        "#They are useful when we don’t know the exact length but want to access values from the end.\n",
        "#Example:\n",
        "#text = \"Python\"\n",
        "#print(text[-1])  # Output: n\n",
        "#print(text[-3])  # Output: h\n",
        "\n",
        "\n"
      ],
      "metadata": {
        "id": "gDsqbIKLc_yw"
      },
      "execution_count": null,
      "outputs": []
    },
    {
      "cell_type": "code",
      "source": [
        "#18) Write a Python program to count occurrences of a substring in a string:\n",
        "string = input(\"Enter the main string: \")\n",
        "substring = input(\"Enter the substring to count: \")\n",
        "\n",
        "count = string.count(substring)\n",
        "print(f\"'{substring}' occurs {count} times in the given string.\")\n"
      ],
      "metadata": {
        "colab": {
          "base_uri": "https://localhost:8080/"
        },
        "id": "i1v3j36edbPJ",
        "outputId": "b2fa195e-9d1b-4d5c-df7c-4480837196e4"
      },
      "execution_count": 61,
      "outputs": [
        {
          "output_type": "stream",
          "name": "stdout",
          "text": [
            "Enter the main string: qwe\n",
            "Enter the substring to count: 2\n",
            "'2' occurs 0 times in the given string.\n"
          ]
        }
      ]
    },
    {
      "cell_type": "code",
      "source": [],
      "metadata": {
        "id": "op5Mh1RifHW2"
      },
      "execution_count": null,
      "outputs": []
    },
    {
      "cell_type": "code",
      "source": [
        "#19) Write a Python program to count the occurrences of each word in a given sentence:\n",
        "sentence = input(\"Enter a sentence: \")\n",
        "words = sentence.split()\n",
        "word_count = {}\n",
        "\n",
        "for word in words:\n",
        "    word = word.lower()  # Optional: makes it case-insensitive\n",
        "    if word in word_count:\n",
        "        word_count[word] += 1\n",
        "    else:\n",
        "        word_count[word] = 1\n",
        "\n",
        "print(\"Word frequencies:\")\n",
        "for word, count in word_count.items():\n",
        "    print(f\"{word}: {count}\")\n"
      ],
      "metadata": {
        "colab": {
          "base_uri": "https://localhost:8080/"
        },
        "id": "1-F-V8t1cw4I",
        "outputId": "dec41a63-c057-46c5-cf73-373197b2eed4"
      },
      "execution_count": 62,
      "outputs": [
        {
          "output_type": "stream",
          "name": "stdout",
          "text": [
            "Enter a sentence: qwer\n",
            "Word frequencies:\n",
            "qwer: 1\n"
          ]
        }
      ]
    },
    {
      "cell_type": "code",
      "source": [
        "#20) Write a Python program to get a single string from two given strings, separated by a space, and swap the first two characters of each string:\n",
        "str1 = input(\"Enter first string: \")\n",
        "str2 = input(\"Enter second string: \")\n",
        "\n",
        "new_str1 = str2[:2] + str1[2:]\n",
        "new_str2 = str1[:2] + str2[2:]\n",
        "\n",
        "combined = new_str1 + \" \" + new_str2\n",
        "print(\"Resulting string:\", combined)\n"
      ],
      "metadata": {
        "id": "-YgnN1Mnd3M7"
      },
      "execution_count": null,
      "outputs": []
    },
    {
      "cell_type": "code",
      "source": [
        "#21) Python program to modify a string based on ending:\n",
        "def modify_string(s):\n",
        "    if len(s) < 3:\n",
        "        return s\n",
        "    elif s.endswith(\"ing\"):\n",
        "        return s + \"ly\"\n",
        "    else:\n",
        "        return s + \"ing\"\n",
        "\n",
        "# Example\n",
        "string = input(\"Enter a string: \")\n",
        "print(\"Modified string:\", modify_string(string))\n"
      ],
      "metadata": {
        "id": "XAaIBzkdeDmH"
      },
      "execution_count": null,
      "outputs": []
    },
    {
      "cell_type": "code",
      "source": [
        "#22) Python function to reverse a string if its length is a multiple of 4:\n",
        "def reverse_if_multiple_of_four(s):\n",
        "    if len(s) % 4 == 0:\n",
        "        return s[::-1]\n",
        "    return s\n",
        "\n",
        "# Example\n",
        "string = input(\"Enter a string: \")\n",
        "print(\"Result:\", reverse_if_multiple_of_four(string))\n"
      ],
      "metadata": {
        "colab": {
          "base_uri": "https://localhost:8080/"
        },
        "id": "vKiRbLf4eiui",
        "outputId": "500db5da-dfea-46a0-f787-f359fad071ea"
      },
      "execution_count": 63,
      "outputs": [
        {
          "output_type": "stream",
          "name": "stdout",
          "text": [
            "Enter a string: 1234\n",
            "Result: 4321\n"
          ]
        }
      ]
    },
    {
      "cell_type": "code",
      "source": [
        "#23) Python program to get a string made of the first 2 and last 2 chars of a given string:\n",
        "def first_last_two(s):\n",
        "    if len(s) < 2:\n",
        "        return \"\"\n",
        "    return s[:2] + s[-2:]\n",
        "\n",
        "# Example\n",
        "string = input(\"Enter a string: \")\n",
        "print(\"Result:\", first_last_two(string))\n"
      ],
      "metadata": {
        "colab": {
          "base_uri": "https://localhost:8080/"
        },
        "id": "85ygGezifTiK",
        "outputId": "b5e3d97d-2e0d-437f-b829-abec3d44bea3"
      },
      "execution_count": 65,
      "outputs": [
        {
          "output_type": "stream",
          "name": "stdout",
          "text": [
            "Enter a string: abcdqwe\n",
            "Result: abwe\n"
          ]
        }
      ]
    },
    {
      "cell_type": "code",
      "source": [
        "#24) Python function to insert a string in the middle of another string:\n",
        "def insert_middle(main_str, insert_str):\n",
        "    middle_index = len(main_str) // 2\n",
        "    return main_str[:middle_index] + insert_str + main_str[middle_index:]\n",
        "\n",
        "# Example\n",
        "main = input(\"Enter main string: \")\n",
        "insert = input(\"Enter string to insert: \")\n",
        "print(\"Modified string:\", insert_middle(main, insert))\n"
      ],
      "metadata": {
        "colab": {
          "base_uri": "https://localhost:8080/"
        },
        "id": "v4nTUChTfia0",
        "outputId": "3ebda5f8-f867-4a99-e414-b8766c53ebb1"
      },
      "execution_count": 66,
      "outputs": [
        {
          "output_type": "stream",
          "name": "stdout",
          "text": [
            "Enter main string: axzs\n",
            "Enter string to insert: asdf\n",
            "Modified string: axasdfzs\n"
          ]
        }
      ]
    },
    {
      "cell_type": "code",
      "source": [
        "#25) What is a List? How will we reverse a list?\n",
        "#•\tA list in Python is a collection of ordered, changeable items, and it allows duplicates.\n",
        "#•\tLists are created using square brackets:\n",
        "#•\tmy_list = [1, 2, 3]\n",
        "#To reverse a list:\n",
        "#my_list = [1, 2, 3, 4]\n",
        "#my_list.reverse()\n",
        "#print(my_list)\n",
        "#Or using slicing:\n",
        "#reversed_list = my_list[::-1]\n",
        "#print(reversed_list)\n"
      ],
      "metadata": {
        "id": "bpW2mS_UgLbl"
      },
      "execution_count": 68,
      "outputs": []
    },
    {
      "cell_type": "code",
      "source": [
        "#26) How will we remove the last object from a list?\n",
        "my_list = [10, 20, 30, 40]\n",
        "my_list.pop()\n",
        "print(my_list)\n"
      ],
      "metadata": {
        "colab": {
          "base_uri": "https://localhost:8080/"
        },
        "id": "S5S0xtvwgcTe",
        "outputId": "ee5eb9b4-453c-4b67-acc3-dbe594919c7c"
      },
      "execution_count": 69,
      "outputs": [
        {
          "output_type": "stream",
          "name": "stdout",
          "text": [
            "[10, 20, 30]\n"
          ]
        }
      ]
    },
    {
      "cell_type": "code",
      "source": [
        "#27) Suppose list1 = [2, 33, 222, 14, 25], what is list1[-1]?\n",
        "#list1[-1] gives the last element of the list.\n",
        "#So the result is:25\n"
      ],
      "metadata": {
        "id": "CVope9clgjNI"
      },
      "execution_count": null,
      "outputs": []
    },
    {
      "cell_type": "code",
      "source": [
        "#28) Differentiate between append() and extend() methods:\n",
        "#Feature\tappend()\textend()\n",
        "#Function\tAdds one item to the end of the list  \tAdds all elements from another iterable\n",
        "#Syntax\tlist.append(element)\t                    list.extend(iterable)\n",
        "#Example\ta.append([4, 5]) → [1, 2, 3, [4, 5]]  \ta.extend([4, 5]) → [1, 2, 3, 4, 5]\n"
      ],
      "metadata": {
        "id": "b-CDYk35gwp4"
      },
      "execution_count": null,
      "outputs": []
    },
    {
      "cell_type": "code",
      "source": [
        "#29) Python function to get the largest number, smallest number, and sum of all from a list:\n",
        "def list_summary(numbers):\n",
        "    largest = max(numbers)\n",
        "    smallest = min(numbers)\n",
        "    total = sum(numbers)\n",
        "    return largest, smallest, total\n",
        "\n",
        "# Example\n",
        "num_list = [10, 25, 5, 70, 40]\n",
        "largest, smallest, total = list_summary(num_list)\n",
        "print(\"Largest:\", largest)\n",
        "print(\"Smallest:\", smallest)\n",
        "print(\"Sum:\", total)\n"
      ],
      "metadata": {
        "colab": {
          "base_uri": "https://localhost:8080/"
        },
        "id": "6CFG9WdahBpQ",
        "outputId": "1e1ee6bf-dae7-4833-8432-f4a74daf4899"
      },
      "execution_count": 70,
      "outputs": [
        {
          "output_type": "stream",
          "name": "stdout",
          "text": [
            "Largest: 70\n",
            "Smallest: 5\n",
            "Sum: 150\n"
          ]
        }
      ]
    },
    {
      "cell_type": "code",
      "source": [
        "#30) How will we compare two lists?\n",
        "#We can compare two lists using the equality operator (==):\n",
        "list1 = [1, 2, 3]\n",
        "list2 = [1, 2, 3]\n",
        "list3 = [3, 2, 1]\n",
        "\n",
        "print(list1 == list2)  # True (same order & elements)\n",
        "print(list1 == list3)  # False (different order)\n",
        "#We can also compare sorted lists to check if they have the same elements regardless of order:\n",
        "print(sorted(list1) == sorted(list3))  # True\n"
      ],
      "metadata": {
        "colab": {
          "base_uri": "https://localhost:8080/"
        },
        "id": "Yr5nreCChNjd",
        "outputId": "abe6f684-ae3f-4699-dd24-b80b26a6400e"
      },
      "execution_count": 73,
      "outputs": [
        {
          "output_type": "stream",
          "name": "stdout",
          "text": [
            "True\n",
            "False\n",
            "True\n"
          ]
        }
      ]
    },
    {
      "cell_type": "code",
      "source": [
        "#31) Python program to count strings with length ≥2 and same first and last character:\n",
        "def match_ends(words):\n",
        "    count = 0\n",
        "    for word in words:\n",
        "        if len(word) >= 2 and word[0] == word[-1]:\n",
        "            count += 1\n",
        "    return count\n",
        "\n",
        "# Example\n",
        "word_list = ['abc', 'xyz', 'aba', '1221']\n",
        "print(\"Count:\", match_ends(word_list))\n"
      ],
      "metadata": {
        "colab": {
          "base_uri": "https://localhost:8080/"
        },
        "id": "JQhSNkjehlmV",
        "outputId": "bc50ed78-7098-4208-f793-396fb9b0e9b5"
      },
      "execution_count": 74,
      "outputs": [
        {
          "output_type": "stream",
          "name": "stdout",
          "text": [
            "Count: 2\n"
          ]
        }
      ]
    },
    {
      "cell_type": "code",
      "source": [
        "#32) Python program to remove duplicates from a list:\n",
        "my_list = [1, 2, 2, 3, 4, 4, 5]\n",
        "unique_list = list(set(my_list))\n",
        "print(\"List after removing duplicates:\", unique_list)\n"
      ],
      "metadata": {
        "id": "WbBX1XpqhtiT"
      },
      "execution_count": null,
      "outputs": []
    },
    {
      "cell_type": "code",
      "source": [
        "#33) Python program to check if a list is empty or not:\n",
        "my_list = []\n",
        "\n",
        "if not my_list:\n",
        "    print(\"The list is empty.\")\n",
        "else:\n",
        "    print(\"The list is not empty.\")\n"
      ],
      "metadata": {
        "colab": {
          "base_uri": "https://localhost:8080/"
        },
        "id": "JunR6AOCh1ht",
        "outputId": "75cd75ee-42f2-4736-932b-9e5c804c293b"
      },
      "execution_count": 75,
      "outputs": [
        {
          "output_type": "stream",
          "name": "stdout",
          "text": [
            "The list is empty.\n"
          ]
        }
      ]
    },
    {
      "cell_type": "code",
      "source": [
        "#34) Function to check if two lists have at least one common member:\n",
        "def common_member(list1, list2):\n",
        "    for item in list1:\n",
        "        if item in list2:\n",
        "            return True\n",
        "    return False\n",
        "\n",
        "# Example\n",
        "print(common_member([1, 2, 3], [4, 5, 3]))  # Output: True\n"
      ],
      "metadata": {
        "colab": {
          "base_uri": "https://localhost:8080/"
        },
        "id": "3FI5coABh8qe",
        "outputId": "cf4ab09e-66e9-4d28-e4bc-c667227837fe"
      },
      "execution_count": 77,
      "outputs": [
        {
          "output_type": "stream",
          "name": "stdout",
          "text": [
            "True\n"
          ]
        }
      ]
    },
    {
      "cell_type": "code",
      "source": [
        "#35) Generate and print list of first and last 5 squares between 1 and 30:\n",
        "squares = [i**2 for i in range(1, 31)]\n",
        "print(\"First 5 squares:\", squares[:5])\n",
        "print(\"Last 5 squares:\", squares[-5:])\n"
      ],
      "metadata": {
        "colab": {
          "base_uri": "https://localhost:8080/"
        },
        "id": "KSM46vOviM9s",
        "outputId": "2be1714b-0b1e-44fb-96f3-4a437fc792e5"
      },
      "execution_count": 78,
      "outputs": [
        {
          "output_type": "stream",
          "name": "stdout",
          "text": [
            "First 5 squares: [1, 4, 9, 16, 25]\n",
            "Last 5 squares: [676, 729, 784, 841, 900]\n"
          ]
        }
      ]
    },
    {
      "cell_type": "code",
      "source": [
        "#36) Function that returns unique elements from a list:\n",
        "def unique_list(lst):\n",
        "    return list(set(lst))\n",
        "\n",
        "# Example\n",
        "print(unique_list([1, 2, 2, 3, 4, 4, 5]))\n"
      ],
      "metadata": {
        "id": "frSnFTQoiUFg"
      },
      "execution_count": null,
      "outputs": []
    },
    {
      "cell_type": "code",
      "source": [
        "#37) Convert a list of characters into a string:\n",
        "char_list = ['P', 'y', 't', 'h', 'o', 'n']\n",
        "string = ''.join(char_list)\n",
        "print(\"String:\", string)\n"
      ],
      "metadata": {
        "id": "uztxhmVUiYgL"
      },
      "execution_count": null,
      "outputs": []
    },
    {
      "cell_type": "code",
      "source": [
        "#38) Select a random item from a list:\n",
        "import random\n",
        "\n",
        "items = [10, 20, 30, 40, 50]\n",
        "print(\"Random item:\", random.choice(items))\n"
      ],
      "metadata": {
        "id": "5c2-DIkEid-v"
      },
      "execution_count": null,
      "outputs": []
    },
    {
      "cell_type": "code",
      "source": [
        "#39) Find the second smallest number in a list:\n",
        "def second_smallest(numbers):\n",
        "    unique_nums = list(set(numbers))\n",
        "    unique_nums.sort()\n",
        "    return unique_nums[1]\n",
        "\n",
        "# Example\n",
        "print(\"Second smallest:\", second_smallest([5, 1, 4, 3, 2, 1]))\n"
      ],
      "metadata": {
        "id": "AOlC7iieijFl"
      },
      "execution_count": null,
      "outputs": []
    },
    {
      "cell_type": "code",
      "source": [
        "#40) Get unique values from a list:\n",
        "my_list = [1, 2, 2, 3, 4, 4, 5]\n",
        "unique_values = list(set(my_list))\n",
        "print(\"Unique values:\", unique_values)\n"
      ],
      "metadata": {
        "id": "5my9Yth8i2Ra"
      },
      "execution_count": null,
      "outputs": []
    },
    {
      "cell_type": "code",
      "source": [
        "#41) Check whether a list contains a sub list:\n",
        "def is_sublist(main_list, sub_list):\n",
        "    for i in range(len(main_list) - len(sub_list) + 1):\n",
        "        if main_list[i:i+len(sub_list)] == sub_list:\n",
        "            return True\n",
        "    return False\n",
        "\n",
        "# Example\n",
        "print(is_sublist([1, 2, 3, 4, 5], [3, 4]))  # Output: True\n"
      ],
      "metadata": {
        "id": "NvciWBKQi71P"
      },
      "execution_count": null,
      "outputs": []
    },
    {
      "cell_type": "code",
      "source": [
        "#42) Split a list into different variables:\n",
        "my_list = [10, 20, 30]\n",
        "a, b, c = my_list\n",
        "print(\"a:\", a, \"b:\", b, \"c:\", c)\n"
      ],
      "metadata": {
        "id": "VZ5K7paTjCc8"
      },
      "execution_count": null,
      "outputs": []
    },
    {
      "cell_type": "code",
      "source": [
        "#43) What is a Tuple? Difference between List and Tuple:\n",
        "#•\tA tuple is an ordered, immutable collection of elements.\n",
        "#•\tList is mutable (can be changed), but Tuple is immutable (cannot be changed).\n",
        "#Feature\tList\tTuple\n",
        "#Syntax\t   [](square brackets)\t()(round brackets)\n",
        "#Mutability\t  Mutable  \tImmutable\n",
        "#Methods Available  \tMany (append, pop)\t Few (count, index)\n",
        "#Performance\tSlower\tFaster\n"
      ],
      "metadata": {
        "id": "0b6BeFSXjGOg"
      },
      "execution_count": null,
      "outputs": []
    },
    {
      "cell_type": "code",
      "source": [
        "#44) Create a tuple with different data types:\n",
        "mixed_tuple = (10, \"Hello\", 3.14, True)\n",
        "print(mixed_tuple)\n"
      ],
      "metadata": {
        "id": "7QYo6gU9jmXt"
      },
      "execution_count": null,
      "outputs": []
    },
    {
      "cell_type": "code",
      "source": [
        "#45) Unzip a list of tuples into individual lists:\n",
        "pairs = [(1, 'a'), (2, 'b'), (3, 'c')]\n",
        "num, char = zip(*pairs)\n",
        "print(\"Numbers:\", list(num))\n",
        "print(\"Characters:\", list(char))\n"
      ],
      "metadata": {
        "colab": {
          "base_uri": "https://localhost:8080/"
        },
        "id": "rxbU0RFbjv_h",
        "outputId": "59df9bc0-93e7-42da-b672-e53ee77c5c58"
      },
      "execution_count": 79,
      "outputs": [
        {
          "output_type": "stream",
          "name": "stdout",
          "text": [
            "Numbers: [1, 2, 3]\n",
            "Characters: ['a', 'b', 'c']\n"
          ]
        }
      ]
    },
    {
      "cell_type": "code",
      "source": [
        "#46) Convert a list of tuples into a dictionary:\n",
        "list_of_tuples = [(\"a\", 1), (\"b\", 2), (\"c\", 3)]\n",
        "dictionary = dict(list_of_tuples)\n",
        "print(\"Dictionary:\", dictionary)\n"
      ],
      "metadata": {
        "id": "8YDGSWknj14V"
      },
      "execution_count": null,
      "outputs": []
    },
    {
      "cell_type": "code",
      "source": [
        "#47) Create a dictionary using tuples in Python:\n",
        "# Each tuple has two values: (key, value)\n",
        "tuple_list = ((\"name\", \"Shuti\"), (\"age\", 23), (\"city\", \"Surat\"))\n",
        "my_dict = dict(tuple_list)\n",
        "print(\"Dictionary from tuples:\", my_dict)\n"
      ],
      "metadata": {
        "id": "eeNHcoeDj6XH"
      },
      "execution_count": null,
      "outputs": []
    },
    {
      "cell_type": "code",
      "source": [
        "#48) Sort a dictionary by value (ascending and descending):\n",
        "my_dict = {'apple': 10, 'banana': 5, 'cherry': 20}\n",
        "\n",
        "# Ascending order\n",
        "asc_sorted = dict(sorted(my_dict.items(), key=lambda item: item[1]))\n",
        "print(\"Ascending:\", asc_sorted)\n",
        "\n",
        "# Descending order\n",
        "desc_sorted = dict(sorted(my_dict.items(), key=lambda item: item[1], reverse=True))\n",
        "print(\"Descending:\", desc_sorted)\n"
      ],
      "metadata": {
        "id": "9kIJP7Ykj-hc"
      },
      "execution_count": null,
      "outputs": []
    },
    {
      "cell_type": "code",
      "source": [
        "#49) Concatenate the following dictionaries to create a new one:\n",
        "dict1 = {1: \"a\", 2: \"b\"}\n",
        "dict2 = {3: \"c\", 4: \"d\"}\n",
        "dict3 = {5: \"e\", 6: \"f\"}\n",
        "\n",
        "# Using update()\n",
        "new_dict = {}\n",
        "new_dict.update(dict1)\n",
        "new_dict.update(dict2)\n",
        "new_dict.update(dict3)\n",
        "\n",
        "print(\"Concatenated Dictionary:\", new_dict)\n"
      ],
      "metadata": {
        "id": "dabQpNiDkXB8"
      },
      "execution_count": null,
      "outputs": []
    },
    {
      "cell_type": "code",
      "source": [
        "#50) Check if a given key already exists in a dictionary:\n",
        "my_dict = {\"name\": \"Shuti\", \"age\": 23}\n",
        "\n",
        "key = \"age\"\n",
        "if key in my_dict:\n",
        "    print(f\"'{key}' key exists in the dictionary.\")\n",
        "else:\n",
        "    print(f\"'{key}' key does not exist in the dictionary.\")\n"
      ],
      "metadata": {
        "id": "DvrlorBSkcm1"
      },
      "execution_count": null,
      "outputs": []
    },
    {
      "cell_type": "code",
      "source": [
        "#51) How do we traverse through a dictionary in Python?\n",
        "We can loop through keys and values like this:\n",
        "my_dict = {\"a\": 1, \"b\": 2, \"c\": 3}\n",
        "\n",
        "for key, value in my_dict.items():\n",
        "    print(\"Key:\", key, \"| Value:\", value)\n"
      ],
      "metadata": {
        "id": "3RUm5Z2ckig2"
      },
      "execution_count": null,
      "outputs": []
    },
    {
      "cell_type": "code",
      "source": [
        "#52) How do we check the presence of a key in a dictionary?\n",
        "We can use the in keyword:\n",
        "my_dict = {\"x\": 100, \"y\": 200}\n",
        "\n",
        "if \"x\" in my_dict:\n",
        "    print(\"Key 'x' is present.\")\n",
        "else:\n",
        "    print(\"Key 'x' is not present.\")\n"
      ],
      "metadata": {
        "id": "Y7KuQqNwkoQy"
      },
      "execution_count": null,
      "outputs": []
    },
    {
      "cell_type": "code",
      "source": [
        "#53) Print a dictionary where keys are numbers between 1 and 15:\n",
        "my_dict = {x: x*x for x in range(1, 16)}\n",
        "print(\"Dictionary with squares from 1 to 15:\", my_dict)\n"
      ],
      "metadata": {
        "id": "kd3byb5okulP"
      },
      "execution_count": null,
      "outputs": []
    },
    {
      "cell_type": "code",
      "source": [
        "#54) Check if multiple keys exist in a dictionary:\n",
        "def check_keys_exist(dictionary, keys):\n",
        "    return all(key in dictionary for key in keys)\n",
        "\n",
        "my_dict = {'a': 1, 'b': 2, 'c': 3}\n",
        "keys_to_check = ['a', 'b']\n",
        "\n",
        "if check_keys_exist(my_dict, keys_to_check):\n",
        "    print(\"All keys exist in the dictionary.\")\n",
        "else:\n",
        "    print(\"One or more keys are missing.\")\n"
      ],
      "metadata": {
        "id": "qEKBKBuZkz70"
      },
      "execution_count": null,
      "outputs": []
    },
    {
      "cell_type": "code",
      "source": [
        "#55) Merge two Python dictionaries:\n",
        "dict1 = {'a': 100, 'b': 200}\n",
        "dict2 = {'c': 300, 'd': 400}\n",
        "\n",
        "# Method 1: Using the update() method\n",
        "merged_dict = dict1.copy()\n",
        "merged_dict.update(dict2)\n",
        "\n",
        "# Method 2: Using dictionary unpacking (Python 3.5+)\n",
        "# merged_dict = {**dict1, **dict2}\n",
        "\n",
        "print(\"Merged dictionary:\", merged_dict)\n"
      ],
      "metadata": {
        "id": "TXU4WaeRk6Ie"
      },
      "execution_count": null,
      "outputs": []
    },
    {
      "cell_type": "code",
      "source": [
        "#56) Map two lists into a dictionary:\n",
        "from collections import Counter\n",
        "\n",
        "keys = ['a', 'b', 'c', 'd']\n",
        "values = [400, 400, 300, 400]\n",
        "\n",
        "mapped_dict = dict(zip(keys, values))\n",
        "counted = Counter(mapped_dict)\n",
        "\n",
        "print(\"Mapped dictionary with Counter:\", counted)\n"
      ],
      "metadata": {
        "id": "n5796wQ6k_ql"
      },
      "execution_count": null,
      "outputs": []
    },
    {
      "cell_type": "code",
      "source": [
        "57) Find the highest 3 values in a dictionary:\n",
        "my_dict = {'a': 100, 'b': 300, 'c': 200, 'd': 400, 'e': 150}\n",
        "\n",
        "top_three = sorted(my_dict.values(), reverse=True)[:3]\n",
        "print(\"Top 3 highest values:\", top_three)\n"
      ],
      "metadata": {
        "id": "Ev7ZH9stlEZ9"
      },
      "execution_count": null,
      "outputs": []
    },
    {
      "cell_type": "code",
      "source": [
        "#58) Combine values in a list of dictionaries:\n",
        "from collections import Counter\n",
        "\n",
        "data = [\n",
        "    {'item': 'item1', 'amount': 400},\n",
        "    {'item': 'item2', 'amount': 300},\n",
        "    {'item': 'item1', 'amount': 750}\n",
        "]\n",
        "\n",
        "result = Counter()\n",
        "for d in data:\n",
        "    result[d['item']] += d['amount']\n",
        "\n",
        "print(\"Combined values:\", result)\n",
        "# Output: Counter({'item1': 1150, 'item2': 300})\n"
      ],
      "metadata": {
        "id": "76RCD6yflI6V"
      },
      "execution_count": null,
      "outputs": []
    },
    {
      "cell_type": "code",
      "source": [
        "#59) Create a dictionary from a string (counting letters):\n",
        "from collections import Counter\n",
        "\n",
        "def string_to_dict(s):\n",
        "    return dict(Counter(s))\n",
        "\n",
        "# Example\n",
        "input_string = \"hello\"\n",
        "print(\"Letter count:\", string_to_dict(input_string))\n"
      ],
      "metadata": {
        "id": "Xbts0FzllPnC"
      },
      "execution_count": null,
      "outputs": []
    },
    {
      "cell_type": "code",
      "source": [
        "#60) Count character frequency in a given string:\n",
        "from collections import Counter\n",
        "\n",
        "sample_string = 'w3resource'\n",
        "result = dict(Counter(sample_string))\n",
        "\n",
        "print(\"Character frequencies:\", result)\n",
        "# Output: {'w': 1, '3': 1, 'r': 2, 'e': 2, 's': 1, 'o': 1, 'u': 1, 'c': 1}\n"
      ],
      "metadata": {
        "id": "SWjzMM6xlUjw"
      },
      "execution_count": null,
      "outputs": []
    },
    {
      "cell_type": "code",
      "source": [
        "#61) Function to calculate factorial of a number:\n",
        "def factorial(n):\n",
        "    if n == 0:\n",
        "        return 1\n",
        "    else:\n",
        "        return n * factorial(n-1)\n",
        "\n",
        "# Example\n",
        "print(\"Factorial of 5:\", factorial(5))\n"
      ],
      "metadata": {
        "id": "fpLNY2LwlbsL"
      },
      "execution_count": null,
      "outputs": []
    },
    {
      "cell_type": "code",
      "source": [
        "#62) Check whether a number is in a given range:\n",
        "def in_range(num, start, end):\n",
        "    return start <= num <= end\n",
        "\n",
        "# Example\n",
        "print(\"Is 5 in range 1 to 10?\", in_range(5, 1, 10))  # Output: True\n"
      ],
      "metadata": {
        "id": "mzfOZTt4logs"
      },
      "execution_count": null,
      "outputs": []
    },
    {
      "cell_type": "code",
      "source": [
        "#63) Check whether a number is perfect or not:\n",
        "A perfect number is a number that is equal to the sum of its proper positive divisors, excluding itself.\n",
        "def is_perfect(n):\n",
        "    if n < 1:\n",
        "        return False\n",
        "    total = sum(i for i in range(1, n) if n % i == 0)\n",
        "    return total == n\n",
        "\n",
        "# Example\n",
        "print(\"Is 28 a perfect number?\", is_perfect(28))  # Output: True\n"
      ],
      "metadata": {
        "id": "cgn_QsyjltYz"
      },
      "execution_count": null,
      "outputs": []
    },
    {
      "cell_type": "code",
      "source": [
        "#64) Check if a string is a palindrome:\n",
        "def is_palindrome(s):\n",
        "    return s == s[::-1]\n",
        "\n",
        "# Example\n",
        "print(\"Is 'madam' a palindrome?\", is_palindrome(\"madam\"))  # Output: True\n"
      ],
      "metadata": {
        "id": "pHDjTInTlyhe"
      },
      "execution_count": null,
      "outputs": []
    },
    {
      "cell_type": "code",
      "source": [
        "#65) How many basic types of functions are available in Python?\n",
        "#There are two basic types of functions in Python:\n",
        "#1.\tBuilt-in Functions – Provided by Python (e.g., print(), len(), range())\n",
        "#2.\tUser-defined Functions – Functions created by the programmer using def\n"
      ],
      "metadata": {
        "id": "2b_CUuEil4u8"
      },
      "execution_count": null,
      "outputs": []
    },
    {
      "cell_type": "code",
      "source": [
        "#66) Pick a random item from a list or tuple:\n",
        "import random\n",
        "\n",
        "my_list = [10, 20, 30, 40]\n",
        "print(\"Random item from list:\", random.choice(my_list))\n",
        "\n",
        "my_tuple = ('a', 'b', 'c')\n",
        "print(\"Random item from tuple:\", random.choice(my_tuple))\n"
      ],
      "metadata": {
        "id": "4kwVUAIqmBHU"
      },
      "execution_count": null,
      "outputs": []
    },
    {
      "cell_type": "code",
      "source": [
        "#67) Pick a random item from a range:\n",
        "import random\n",
        "\n",
        "print(\"Random number from range 1 to 10:\", random.choice(range(1, 11)))\n"
      ],
      "metadata": {
        "id": "AwexIeximFfg"
      },
      "execution_count": null,
      "outputs": []
    },
    {
      "cell_type": "code",
      "source": [
        "#68) Get a random number in Python:\n",
        "import random\n",
        "\n",
        "# Random float between 0 and 1\n",
        "print(\"Random float (0-1):\", random.random())\n",
        "\n",
        "# Random integer between 10 and 50\n",
        "print(\"Random integer (10-50):\", random.randint(10, 50))\n"
      ],
      "metadata": {
        "id": "CCxjSSelmLSW"
      },
      "execution_count": null,
      "outputs": []
    },
    {
      "cell_type": "code",
      "source": [
        "#69) Set the starting value in generating random numbers:\n",
        "We can use random.seed() to set the starting point (for reproducibility):\n",
        "import random\n",
        "\n",
        "random.seed(10)  # Sets the seed\n",
        "print(\"Random number with seed 10:\", random.randint(1, 100))\n"
      ],
      "metadata": {
        "id": "hoLMc8ThmQM-"
      },
      "execution_count": null,
      "outputs": []
    },
    {
      "cell_type": "code",
      "source": [
        "#70) Randomize the items of a list in place:\n",
        "import random\n",
        "\n",
        "my_list = [1, 2, 3, 4, 5]\n",
        "random.shuffle(my_list)\n",
        "print(\"Shuffled list:\", my_list)\n",
        "\n"
      ],
      "metadata": {
        "id": "5khJeJZXmVU_"
      },
      "execution_count": null,
      "outputs": []
    },
    {
      "cell_type": "code",
      "source": [
        "#71) What is a File function in Python? What are keywords to create and write a file?\n",
        "#•\tFile functions in Python help to create, read, write, and modify files.\n",
        "#•\tCommon keywords/functions:\n",
        "#o\topen(filename, mode) – Open a file ('w' for write, 'a' for append, 'r' for read)\n",
        "#o\twrite() – Write content to file\n",
        "#o\tread() – Read content from file\n",
        "#o\tclose() – Close the file after use\n"
      ],
      "metadata": {
        "id": "YHJi5lb2mavW"
      },
      "execution_count": null,
      "outputs": []
    },
    {
      "cell_type": "code",
      "source": [
        "#72) Read an entire text file:\n",
        "with open('sample.txt', 'r') as file:\n",
        "    content = file.read()\n",
        "    print(content)\n"
      ],
      "metadata": {
        "id": "qF3GlKrHmmuE"
      },
      "execution_count": null,
      "outputs": []
    },
    {
      "cell_type": "code",
      "source": [
        "#73) Append text to a file and display the text:\n",
        "with open('sample.txt', 'a') as file:\n",
        "    file.write(\"\\nThis is an appended line.\")\n",
        "\n",
        "with open('sample.txt', 'r') as file:\n",
        "    print(file.read())\n"
      ],
      "metadata": {
        "id": "skGtrbckmr-8"
      },
      "execution_count": null,
      "outputs": []
    },
    {
      "cell_type": "code",
      "source": [
        "#74) Read first n lines of a file:\n",
        "def read_first_n_lines(filename, n):\n",
        "    with open(filename, 'r') as file:\n",
        "        for i in range(n):\n",
        "            print(file.readline().strip())\n"
      ],
      "metadata": {
        "id": "V9io8jZamwgL"
      },
      "execution_count": null,
      "outputs": []
    },
    {
      "cell_type": "code",
      "source": [
        "#75) Read last n lines of a file:\n",
        "def read_last_n_lines(filename, n):\n",
        "    with open(filename, 'r') as file:\n",
        "        lines = file.readlines()\n",
        "        for line in lines[-n:]:\n",
        "            print(line.strip())\n"
      ],
      "metadata": {
        "id": "7anOGZWjm0uq"
      },
      "execution_count": null,
      "outputs": []
    },
    {
      "cell_type": "code",
      "source": [
        "#76) Read file line by line and store in a list:\n",
        "with open('sample.txt', 'r') as file:\n",
        "    lines = file.readlines()\n",
        "\n",
        "print(lines)\n"
      ],
      "metadata": {
        "id": "RsmW7S7Vm5Yj"
      },
      "execution_count": null,
      "outputs": []
    },
    {
      "cell_type": "code",
      "source": [
        "#77) Read file line by line and store in a variable:\n",
        "with open('sample.txt', 'r') as file:\n",
        "    content = \"\"\n",
        "    for line in file:\n",
        "        content += line\n",
        "\n",
        "print(content)\n"
      ],
      "metadata": {
        "id": "GqFI9KHLm9B-"
      },
      "execution_count": null,
      "outputs": []
    },
    {
      "cell_type": "code",
      "source": [
        "#78) Find the longest words in a file:\n",
        "def longest_words(filename):\n",
        "    with open(filename, 'r') as file:\n",
        "        words = file.read().split()\n",
        "        max_len = len(max(words, key=len))\n",
        "        return [word for word in words if len(word) == max_len]\n",
        "\n",
        "print(longest_words('sample.txt'))\n"
      ],
      "metadata": {
        "id": "HV6e9h32nB1s"
      },
      "execution_count": null,
      "outputs": []
    },
    {
      "cell_type": "code",
      "source": [
        "#79) Count number of lines in a file:\n",
        "with open('sample.txt', 'r') as file:\n",
        "    lines = file.readlines()\n",
        "    print(\"Number of lines:\", len(lines))\n"
      ],
      "metadata": {
        "id": "ofFHa23QnHQl"
      },
      "execution_count": null,
      "outputs": []
    },
    {
      "cell_type": "code",
      "source": [
        "#80) Count frequency of words in a file:\n",
        "from collections import Counter\n",
        "\n",
        "with open('sample.txt', 'r') as file:\n",
        "    words = file.read().split()\n",
        "    word_count = Counter(words)\n",
        "\n",
        "print(word_count)\n"
      ],
      "metadata": {
        "id": "SA6WXKTFnLLZ"
      },
      "execution_count": null,
      "outputs": []
    },
    {
      "cell_type": "code",
      "source": [
        "#81) Write a list to a file:\n",
        "lines = ['Python\\n', 'is\\n', 'awesome!\\n']\n",
        "\n",
        "with open('list_output.txt', 'w') as file:\n",
        "    file.writelines(lines)\n"
      ],
      "metadata": {
        "id": "QLD-qp8inQ4d"
      },
      "execution_count": null,
      "outputs": []
    },
    {
      "cell_type": "code",
      "source": [
        "#82) Copy contents of a file to another file:\n",
        "with open('sample.txt', 'r') as src:\n",
        "    with open('copy.txt', 'w') as dst:\n",
        "        dst.write(src.read())\n"
      ],
      "metadata": {
        "id": "56VGJcNwnVXE"
      },
      "execution_count": null,
      "outputs": []
    },
    {
      "cell_type": "code",
      "source": [
        "#83) Exception Handling & Error:\n",
        "#•\tException handling: Process of catching and managing runtime errors.\n",
        "#•\tSyntax:\n",
        "#try:\n",
        "    # risky code\n",
        "#except ExceptionType:\n",
        "    # handling code\n",
        "#finally:\n",
        "    # always executes\n",
        "#•\tError: A problem in a program that causes it to crash. Errors can be syntax or runtime errors.\n"
      ],
      "metadata": {
        "id": "QxBk_pcjnZZy"
      },
      "execution_count": null,
      "outputs": []
    },
    {
      "cell_type": "code",
      "source": [
        "#84) How many except statements can a try-except block have?\n",
        "•\tAs many as needed.\n",
        "•\tExample:\n",
        "try:\n",
        "    num = int(input(\"Enter number: \"))\n",
        "except ValueError:\n",
        "    print(\"That's not a number!\")\n",
        "except ZeroDivisionError:\n",
        "    print(\"Cannot divide by zero!\")\n"
      ],
      "metadata": {
        "id": "imSCDzonnkyn"
      },
      "execution_count": null,
      "outputs": []
    },
    {
      "cell_type": "code",
      "source": [
        "#85) When is else part executed in try-except-else?\n",
        "#•\tWhen no exception is raised in the try block.\n"
      ],
      "metadata": {
        "id": "CZ4RJ1Fhnw5C"
      },
      "execution_count": null,
      "outputs": []
    },
    {
      "cell_type": "code",
      "source": [
        "#86) Can one block of except handle multiple exceptions?\n",
        "Yes, like this:\n",
        "try:\n",
        "    # some code\n",
        "except (ValueError, TypeError):\n",
        "    print(\"Handled both ValueError and TypeError\")\n"
      ],
      "metadata": {
        "id": "RbUmF9j2n15W"
      },
      "execution_count": null,
      "outputs": []
    },
    {
      "cell_type": "code",
      "source": [
        "#87) When is finally block executed?\n",
        "•\tAlways executed after try and except, whether an exception occurred or not.\n"
      ],
      "metadata": {
        "id": "-jh24iNvn9OF"
      },
      "execution_count": null,
      "outputs": []
    },
    {
      "cell_type": "code",
      "source": [
        "#88) What happens when '1' == 1 is executed?\n",
        "•\tIt returns False because:\n",
        "o\t'1' is a string\n",
        "o\t1 is an integer\n",
        "o\tDifferent data types cannot be equal without conversion.\n"
      ],
      "metadata": {
        "id": "H3lERN3qoBPr"
      },
      "execution_count": null,
      "outputs": []
    },
    {
      "cell_type": "code",
      "source": [
        "#89) How Do We Handle Exceptions with Try/Except/Finally in Python?\n",
        "Python uses the try/except/finally block to handle exceptions. Here's the explanation and an example:\n",
        "•\ttry block: Code that may cause an error.\n",
        "•\texcept block: Code that runs if an error occurs.\n",
        "•\tfinally block: Code that always runs, no matter what.\n",
        " Example:\n",
        "try:\n",
        "    num = int(input(\"Enter a number: \"))\n",
        "    result = 10 / num\n",
        "    print(\"Result is:\", result)\n",
        "except ZeroDivisionError:\n",
        "    print(\"We cannot divide by zero!\")\n",
        "except ValueError:\n",
        "    print(\"Please enter a valid number!\")\n",
        "finally:\n",
        "    print(\"This block always runs (cleanup or exit message)\")\n"
      ],
      "metadata": {
        "id": "-9fu85ARoH9C"
      },
      "execution_count": null,
      "outputs": []
    },
    {
      "cell_type": "code",
      "source": [
        "#90) Write Python program that allows user to enter only odd numbers, else raises an exception\n",
        "Example:\n",
        "try:\n",
        "    number = int(input(\"Enter an odd number: \"))\n",
        "    if number % 2 == 0:\n",
        "        raise ValueError(\"This is not an odd number!\")\n",
        "    print(\"Thank we! We entered an odd number.\")\n",
        "except ValueError as ve:\n",
        "    print(\"Error:\", ve)\n",
        "\n"
      ],
      "metadata": {
        "id": "B_OxSn9OoO92"
      },
      "execution_count": null,
      "outputs": []
    }
  ]
}