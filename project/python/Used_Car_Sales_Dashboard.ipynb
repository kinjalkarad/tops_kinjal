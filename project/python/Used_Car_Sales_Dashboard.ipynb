{
 "cells": [
  {
   "cell_type": "markdown",
   "id": "54a3f636-c7f4-4e48-946b-0d04fd88a86a",
   "metadata": {},
   "source": [
    "## Import the required libraries"
   ]
  },
  {
   "cell_type": "code",
   "execution_count": null,
   "id": "54f12e93-2019-49c4-9f84-c321ee0cff1d",
   "metadata": {},
   "outputs": [],
   "source": []
  },
  {
   "cell_type": "code",
   "execution_count": 1,
   "id": "45f1d5c4-d6e5-4e53-ba88-8998ded3d365",
   "metadata": {},
   "outputs": [],
   "source": [
    "import pandas as pd\n",
    "import glob"
   ]
  },
  {
   "cell_type": "code",
   "execution_count": 2,
   "id": "97e94387-bcb8-4dc8-9632-3c51aa153db1",
   "metadata": {},
   "outputs": [],
   "source": [
    "import seaborn as sns\n",
    "from matplotlib import pyplot as plt"
   ]
  },
  {
   "cell_type": "markdown",
   "id": "54b569ac-cc85-4ba2-a7c6-0b75a41d6f33",
   "metadata": {},
   "source": [
    "### Append all the sales CSV files into one sales_data CSV file list"
   ]
  },
  {
   "cell_type": "code",
   "execution_count": 3,
   "id": "aa3c839c-21fb-4c0a-ac6b-41d5d548a404",
   "metadata": {},
   "outputs": [],
   "source": [
    "sales_2022_csv_files = glob.glob('Data Sets/Used Car Sales Raw Data/2022 Sales Data/*.csv')\n",
    "sales_2023_csv_files = glob.glob('Data Sets/Used Car Sales Raw Data/2023 Sales Data/*.csv')\n",
    "sales_2024_csv_files = glob.glob('Data Sets/Used Car Sales Raw Data/2024 Sales Data/*.csv')\n",
    "\n",
    "sales_data_list = []\n",
    "\n",
    "for file in sales_2022_csv_files:\n",
    "    df = pd.read_csv(file, sep = '\\t')\n",
    "    sales_data_list.append(df)\n",
    "\n",
    "for file in sales_2023_csv_files:\n",
    "    df = pd.read_csv(file, sep = '\\t')\n",
    "    sales_data_list.append(df)\n",
    "\n",
    "for file in sales_2024_csv_files:\n",
    "    df = pd.read_csv(file, sep = '\\t')\n",
    "    sales_data_list.append(df)\n",
    "\n",
    "sales_data = pd.concat(sales_data_list, ignore_index = True)\n"
   ]
  },
  {
   "cell_type": "code",
   "execution_count": 4,
   "id": "3a903845-e62e-441c-b4a1-b8132a27a551",
   "metadata": {},
   "outputs": [
    {
     "data": {
      "text/plain": [
       "Index(['Sale Date', 'Sales Rep ID', 'Region ID', 'Car Model ID', 'Units Sold',\n",
       "       'Revenue'],\n",
       "      dtype='object')"
      ]
     },
     "execution_count": 4,
     "metadata": {},
     "output_type": "execute_result"
    }
   ],
   "source": [
    "sales_data.columns"
   ]
  },
  {
   "cell_type": "code",
   "execution_count": null,
   "id": "d1eb2742-ff0d-4746-9981-fff81cd29f77",
   "metadata": {},
   "outputs": [],
   "source": []
  },
  {
   "cell_type": "markdown",
   "id": "4f9d9e9a-a01b-4485-a956-27204998016f",
   "metadata": {},
   "source": [
    "### Import the lookup tables"
   ]
  },
  {
   "cell_type": "code",
   "execution_count": 5,
   "id": "65c1a971-7e74-4c1a-8685-447c18925fb8",
   "metadata": {},
   "outputs": [],
   "source": [
    "car_model = pd.read_csv('Data Sets/Used Car Sales Raw Data/Car Model Lookup Table.csv', sep = '\\t')\n",
    "region = pd.read_csv('Data Sets/Used Car Sales Raw Data/Region Lookup Table.csv', sep = '\\t')\n",
    "sales_rep = pd.read_csv('Data Sets/Used Car Sales Raw Data/Sales Rep Lookup Table.csv', sep = '\\t')"
   ]
  },
  {
   "cell_type": "code",
   "execution_count": 6,
   "id": "802b6cee-39b8-4592-93bc-98b1e74ebefb",
   "metadata": {},
   "outputs": [
    {
     "data": {
      "text/plain": [
       "Index(['Car Model ID', 'Car Model', 'Color', 'Price'], dtype='object')"
      ]
     },
     "execution_count": 6,
     "metadata": {},
     "output_type": "execute_result"
    }
   ],
   "source": [
    "car_model.columns"
   ]
  },
  {
   "cell_type": "markdown",
   "id": "87212a14-1853-4805-a4a5-d9efdeb3e55f",
   "metadata": {},
   "source": [
    "### Merge the sales_data CSV file with car_model, region and sales_rep csv files."
   ]
  },
  {
   "cell_type": "code",
   "execution_count": 7,
   "id": "7238f9fe-4534-4f6d-a32b-8fd97afee49c",
   "metadata": {},
   "outputs": [],
   "source": [
    "sales_data = pd.merge(sales_data, car_model, on = 'Car Model ID', how = 'left')\n",
    "sales_data = pd.merge(sales_data, region, on = 'Region ID', how = 'left')\n",
    "sales_data = pd.merge(sales_data, sales_rep, on = 'Sales Rep ID', how = 'left')"
   ]
  },
  {
   "cell_type": "code",
   "execution_count": 8,
   "id": "a8502ee7-d880-4da4-bdce-6a13d791b1b5",
   "metadata": {},
   "outputs": [
    {
     "data": {
      "text/html": [
       "<div>\n",
       "<style scoped>\n",
       "    .dataframe tbody tr th:only-of-type {\n",
       "        vertical-align: middle;\n",
       "    }\n",
       "\n",
       "    .dataframe tbody tr th {\n",
       "        vertical-align: top;\n",
       "    }\n",
       "\n",
       "    .dataframe thead th {\n",
       "        text-align: right;\n",
       "    }\n",
       "</style>\n",
       "<table border=\"1\" class=\"dataframe\">\n",
       "  <thead>\n",
       "    <tr style=\"text-align: right;\">\n",
       "      <th></th>\n",
       "      <th>Sale Date</th>\n",
       "      <th>Sales Rep ID</th>\n",
       "      <th>Region ID_x</th>\n",
       "      <th>Car Model ID</th>\n",
       "      <th>Units Sold</th>\n",
       "      <th>Revenue</th>\n",
       "      <th>Car Model</th>\n",
       "      <th>Color</th>\n",
       "      <th>Price</th>\n",
       "      <th>Region</th>\n",
       "      <th>Sales Rep Name</th>\n",
       "      <th>Region ID_y</th>\n",
       "    </tr>\n",
       "  </thead>\n",
       "  <tbody>\n",
       "    <tr>\n",
       "      <th>0</th>\n",
       "      <td>04/01/2022</td>\n",
       "      <td>1</td>\n",
       "      <td>1</td>\n",
       "      <td>2</td>\n",
       "      <td>2</td>\n",
       "      <td>24000</td>\n",
       "      <td>Honda Civic</td>\n",
       "      <td>Red</td>\n",
       "      <td>12000</td>\n",
       "      <td>North</td>\n",
       "      <td>Julie</td>\n",
       "      <td>3</td>\n",
       "    </tr>\n",
       "    <tr>\n",
       "      <th>1</th>\n",
       "      <td>04/02/2022</td>\n",
       "      <td>2</td>\n",
       "      <td>2</td>\n",
       "      <td>3</td>\n",
       "      <td>1</td>\n",
       "      <td>13000</td>\n",
       "      <td>Ford Focus</td>\n",
       "      <td>White</td>\n",
       "      <td>13000</td>\n",
       "      <td>South</td>\n",
       "      <td>Adam</td>\n",
       "      <td>4</td>\n",
       "    </tr>\n",
       "    <tr>\n",
       "      <th>2</th>\n",
       "      <td>04/03/2022</td>\n",
       "      <td>3</td>\n",
       "      <td>3</td>\n",
       "      <td>4</td>\n",
       "      <td>2</td>\n",
       "      <td>50000</td>\n",
       "      <td>BMW 3 Series</td>\n",
       "      <td>Black</td>\n",
       "      <td>25000</td>\n",
       "      <td>East</td>\n",
       "      <td>Emily</td>\n",
       "      <td>1</td>\n",
       "    </tr>\n",
       "    <tr>\n",
       "      <th>3</th>\n",
       "      <td>04/04/2022</td>\n",
       "      <td>4</td>\n",
       "      <td>4</td>\n",
       "      <td>5</td>\n",
       "      <td>1</td>\n",
       "      <td>23000</td>\n",
       "      <td>Audi A4</td>\n",
       "      <td>Gray</td>\n",
       "      <td>23000</td>\n",
       "      <td>West</td>\n",
       "      <td>James</td>\n",
       "      <td>2</td>\n",
       "    </tr>\n",
       "    <tr>\n",
       "      <th>4</th>\n",
       "      <td>04/05/2022</td>\n",
       "      <td>5</td>\n",
       "      <td>1</td>\n",
       "      <td>6</td>\n",
       "      <td>2</td>\n",
       "      <td>54000</td>\n",
       "      <td>Mercedes C-Class</td>\n",
       "      <td>Silver</td>\n",
       "      <td>27000</td>\n",
       "      <td>North</td>\n",
       "      <td>Sarah</td>\n",
       "      <td>3</td>\n",
       "    </tr>\n",
       "  </tbody>\n",
       "</table>\n",
       "</div>"
      ],
      "text/plain": [
       "    Sale Date  Sales Rep ID  Region ID_x  Car Model ID  Units Sold  Revenue  \\\n",
       "0  04/01/2022             1            1             2           2    24000   \n",
       "1  04/02/2022             2            2             3           1    13000   \n",
       "2  04/03/2022             3            3             4           2    50000   \n",
       "3  04/04/2022             4            4             5           1    23000   \n",
       "4  04/05/2022             5            1             6           2    54000   \n",
       "\n",
       "          Car Model   Color  Price Region Sales Rep Name  Region ID_y  \n",
       "0       Honda Civic     Red  12000  North          Julie            3  \n",
       "1        Ford Focus   White  13000  South           Adam            4  \n",
       "2      BMW 3 Series   Black  25000   East          Emily            1  \n",
       "3           Audi A4    Gray  23000   West          James            2  \n",
       "4  Mercedes C-Class  Silver  27000  North          Sarah            3  "
      ]
     },
     "execution_count": 8,
     "metadata": {},
     "output_type": "execute_result"
    }
   ],
   "source": [
    "sales_data.head()"
   ]
  },
  {
   "cell_type": "code",
   "execution_count": 9,
   "id": "81c87155-d949-44a1-8e97-96d305b4b301",
   "metadata": {},
   "outputs": [],
   "source": [
    "sales_data.drop(sales_data.columns[[1,2,3,11]], axis = 1, inplace = True)"
   ]
  },
  {
   "cell_type": "code",
   "execution_count": 10,
   "id": "a6fdbf15-4648-4cd3-8132-3dd6398c33a5",
   "metadata": {},
   "outputs": [
    {
     "data": {
      "text/html": [
       "<div>\n",
       "<style scoped>\n",
       "    .dataframe tbody tr th:only-of-type {\n",
       "        vertical-align: middle;\n",
       "    }\n",
       "\n",
       "    .dataframe tbody tr th {\n",
       "        vertical-align: top;\n",
       "    }\n",
       "\n",
       "    .dataframe thead th {\n",
       "        text-align: right;\n",
       "    }\n",
       "</style>\n",
       "<table border=\"1\" class=\"dataframe\">\n",
       "  <thead>\n",
       "    <tr style=\"text-align: right;\">\n",
       "      <th></th>\n",
       "      <th>Sale Date</th>\n",
       "      <th>Units Sold</th>\n",
       "      <th>Revenue</th>\n",
       "      <th>Car Model</th>\n",
       "      <th>Color</th>\n",
       "      <th>Price</th>\n",
       "      <th>Region</th>\n",
       "      <th>Sales Rep Name</th>\n",
       "    </tr>\n",
       "  </thead>\n",
       "  <tbody>\n",
       "    <tr>\n",
       "      <th>0</th>\n",
       "      <td>04/01/2022</td>\n",
       "      <td>2</td>\n",
       "      <td>24000</td>\n",
       "      <td>Honda Civic</td>\n",
       "      <td>Red</td>\n",
       "      <td>12000</td>\n",
       "      <td>North</td>\n",
       "      <td>Julie</td>\n",
       "    </tr>\n",
       "    <tr>\n",
       "      <th>1</th>\n",
       "      <td>04/02/2022</td>\n",
       "      <td>1</td>\n",
       "      <td>13000</td>\n",
       "      <td>Ford Focus</td>\n",
       "      <td>White</td>\n",
       "      <td>13000</td>\n",
       "      <td>South</td>\n",
       "      <td>Adam</td>\n",
       "    </tr>\n",
       "    <tr>\n",
       "      <th>2</th>\n",
       "      <td>04/03/2022</td>\n",
       "      <td>2</td>\n",
       "      <td>50000</td>\n",
       "      <td>BMW 3 Series</td>\n",
       "      <td>Black</td>\n",
       "      <td>25000</td>\n",
       "      <td>East</td>\n",
       "      <td>Emily</td>\n",
       "    </tr>\n",
       "    <tr>\n",
       "      <th>3</th>\n",
       "      <td>04/04/2022</td>\n",
       "      <td>1</td>\n",
       "      <td>23000</td>\n",
       "      <td>Audi A4</td>\n",
       "      <td>Gray</td>\n",
       "      <td>23000</td>\n",
       "      <td>West</td>\n",
       "      <td>James</td>\n",
       "    </tr>\n",
       "    <tr>\n",
       "      <th>4</th>\n",
       "      <td>04/05/2022</td>\n",
       "      <td>2</td>\n",
       "      <td>54000</td>\n",
       "      <td>Mercedes C-Class</td>\n",
       "      <td>Silver</td>\n",
       "      <td>27000</td>\n",
       "      <td>North</td>\n",
       "      <td>Sarah</td>\n",
       "    </tr>\n",
       "  </tbody>\n",
       "</table>\n",
       "</div>"
      ],
      "text/plain": [
       "    Sale Date  Units Sold  Revenue         Car Model   Color  Price Region  \\\n",
       "0  04/01/2022           2    24000       Honda Civic     Red  12000  North   \n",
       "1  04/02/2022           1    13000        Ford Focus   White  13000  South   \n",
       "2  04/03/2022           2    50000      BMW 3 Series   Black  25000   East   \n",
       "3  04/04/2022           1    23000           Audi A4    Gray  23000   West   \n",
       "4  04/05/2022           2    54000  Mercedes C-Class  Silver  27000  North   \n",
       "\n",
       "  Sales Rep Name  \n",
       "0          Julie  \n",
       "1           Adam  \n",
       "2          Emily  \n",
       "3          James  \n",
       "4          Sarah  "
      ]
     },
     "execution_count": 10,
     "metadata": {},
     "output_type": "execute_result"
    }
   ],
   "source": [
    "sales_data.head()"
   ]
  },
  {
   "cell_type": "code",
   "execution_count": 11,
   "id": "31fcc4bf-8047-48af-91a8-474c27ff1b75",
   "metadata": {},
   "outputs": [],
   "source": [
    "start_index = 1201\n",
    "sales_data['Invoice_ID'] = [\"OLX-\" + str(i) for i in range(start_index, start_index + len(sales_data))]"
   ]
  },
  {
   "cell_type": "code",
   "execution_count": 12,
   "id": "b3962617-8198-431c-9976-d248900fedb2",
   "metadata": {},
   "outputs": [
    {
     "data": {
      "text/html": [
       "<div>\n",
       "<style scoped>\n",
       "    .dataframe tbody tr th:only-of-type {\n",
       "        vertical-align: middle;\n",
       "    }\n",
       "\n",
       "    .dataframe tbody tr th {\n",
       "        vertical-align: top;\n",
       "    }\n",
       "\n",
       "    .dataframe thead th {\n",
       "        text-align: right;\n",
       "    }\n",
       "</style>\n",
       "<table border=\"1\" class=\"dataframe\">\n",
       "  <thead>\n",
       "    <tr style=\"text-align: right;\">\n",
       "      <th></th>\n",
       "      <th>Sale Date</th>\n",
       "      <th>Units Sold</th>\n",
       "      <th>Revenue</th>\n",
       "      <th>Car Model</th>\n",
       "      <th>Color</th>\n",
       "      <th>Price</th>\n",
       "      <th>Region</th>\n",
       "      <th>Sales Rep Name</th>\n",
       "      <th>Invoice_ID</th>\n",
       "    </tr>\n",
       "  </thead>\n",
       "  <tbody>\n",
       "    <tr>\n",
       "      <th>0</th>\n",
       "      <td>04/01/2022</td>\n",
       "      <td>2</td>\n",
       "      <td>24000</td>\n",
       "      <td>Honda Civic</td>\n",
       "      <td>Red</td>\n",
       "      <td>12000</td>\n",
       "      <td>North</td>\n",
       "      <td>Julie</td>\n",
       "      <td>OLX-1201</td>\n",
       "    </tr>\n",
       "    <tr>\n",
       "      <th>1</th>\n",
       "      <td>04/02/2022</td>\n",
       "      <td>1</td>\n",
       "      <td>13000</td>\n",
       "      <td>Ford Focus</td>\n",
       "      <td>White</td>\n",
       "      <td>13000</td>\n",
       "      <td>South</td>\n",
       "      <td>Adam</td>\n",
       "      <td>OLX-1202</td>\n",
       "    </tr>\n",
       "    <tr>\n",
       "      <th>2</th>\n",
       "      <td>04/03/2022</td>\n",
       "      <td>2</td>\n",
       "      <td>50000</td>\n",
       "      <td>BMW 3 Series</td>\n",
       "      <td>Black</td>\n",
       "      <td>25000</td>\n",
       "      <td>East</td>\n",
       "      <td>Emily</td>\n",
       "      <td>OLX-1203</td>\n",
       "    </tr>\n",
       "    <tr>\n",
       "      <th>3</th>\n",
       "      <td>04/04/2022</td>\n",
       "      <td>1</td>\n",
       "      <td>23000</td>\n",
       "      <td>Audi A4</td>\n",
       "      <td>Gray</td>\n",
       "      <td>23000</td>\n",
       "      <td>West</td>\n",
       "      <td>James</td>\n",
       "      <td>OLX-1204</td>\n",
       "    </tr>\n",
       "    <tr>\n",
       "      <th>4</th>\n",
       "      <td>04/05/2022</td>\n",
       "      <td>2</td>\n",
       "      <td>54000</td>\n",
       "      <td>Mercedes C-Class</td>\n",
       "      <td>Silver</td>\n",
       "      <td>27000</td>\n",
       "      <td>North</td>\n",
       "      <td>Sarah</td>\n",
       "      <td>OLX-1205</td>\n",
       "    </tr>\n",
       "  </tbody>\n",
       "</table>\n",
       "</div>"
      ],
      "text/plain": [
       "    Sale Date  Units Sold  Revenue         Car Model   Color  Price Region  \\\n",
       "0  04/01/2022           2    24000       Honda Civic     Red  12000  North   \n",
       "1  04/02/2022           1    13000        Ford Focus   White  13000  South   \n",
       "2  04/03/2022           2    50000      BMW 3 Series   Black  25000   East   \n",
       "3  04/04/2022           1    23000           Audi A4    Gray  23000   West   \n",
       "4  04/05/2022           2    54000  Mercedes C-Class  Silver  27000  North   \n",
       "\n",
       "  Sales Rep Name Invoice_ID  \n",
       "0          Julie   OLX-1201  \n",
       "1           Adam   OLX-1202  \n",
       "2          Emily   OLX-1203  \n",
       "3          James   OLX-1204  \n",
       "4          Sarah   OLX-1205  "
      ]
     },
     "execution_count": 12,
     "metadata": {},
     "output_type": "execute_result"
    }
   ],
   "source": [
    "sales_data.head()"
   ]
  },
  {
   "cell_type": "code",
   "execution_count": 13,
   "id": "913d8507-b480-4134-9f8c-94db41d4748f",
   "metadata": {},
   "outputs": [
    {
     "data": {
      "text/plain": [
       "(1075, 9)"
      ]
     },
     "execution_count": 13,
     "metadata": {},
     "output_type": "execute_result"
    }
   ],
   "source": [
    "sales_data.shape"
   ]
  },
  {
   "cell_type": "code",
   "execution_count": 14,
   "id": "8f9299a8-a803-4102-b252-268dc1903a22",
   "metadata": {},
   "outputs": [
    {
     "name": "stdout",
     "output_type": "stream",
     "text": [
      "<class 'pandas.core.frame.DataFrame'>\n",
      "RangeIndex: 1075 entries, 0 to 1074\n",
      "Data columns (total 9 columns):\n",
      " #   Column          Non-Null Count  Dtype \n",
      "---  ------          --------------  ----- \n",
      " 0   Sale Date       1075 non-null   object\n",
      " 1   Units Sold      1075 non-null   int64 \n",
      " 2   Revenue         1075 non-null   int64 \n",
      " 3   Car Model       1075 non-null   object\n",
      " 4   Color           1075 non-null   object\n",
      " 5   Price           1075 non-null   int64 \n",
      " 6   Region          1075 non-null   object\n",
      " 7   Sales Rep Name  1075 non-null   object\n",
      " 8   Invoice_ID      1075 non-null   object\n",
      "dtypes: int64(3), object(6)\n",
      "memory usage: 75.7+ KB\n"
     ]
    }
   ],
   "source": [
    "sales_data.info()"
   ]
  },
  {
   "cell_type": "code",
   "execution_count": 15,
   "id": "61c088f9-1c9c-40e3-b3aa-b92a30b3a6b5",
   "metadata": {},
   "outputs": [
    {
     "data": {
      "text/plain": [
       "Sale Date         0\n",
       "Units Sold        0\n",
       "Revenue           0\n",
       "Car Model         0\n",
       "Color             0\n",
       "Price             0\n",
       "Region            0\n",
       "Sales Rep Name    0\n",
       "Invoice_ID        0\n",
       "dtype: int64"
      ]
     },
     "execution_count": 15,
     "metadata": {},
     "output_type": "execute_result"
    }
   ],
   "source": [
    "sales_data.isnull().sum()"
   ]
  },
  {
   "cell_type": "code",
   "execution_count": 16,
   "id": "26b2ad75-3d70-4d86-a985-b61dc97eb4af",
   "metadata": {},
   "outputs": [
    {
     "data": {
      "text/plain": [
       "0"
      ]
     },
     "execution_count": 16,
     "metadata": {},
     "output_type": "execute_result"
    }
   ],
   "source": [
    "sales_data.duplicated().sum()"
   ]
  },
  {
   "cell_type": "code",
   "execution_count": 17,
   "id": "381bc1bc-3607-45ef-b113-c4f0ea30688c",
   "metadata": {},
   "outputs": [
    {
     "data": {
      "text/plain": [
       "Sale Date         object\n",
       "Units Sold         int64\n",
       "Revenue            int64\n",
       "Car Model         object\n",
       "Color             object\n",
       "Price              int64\n",
       "Region            object\n",
       "Sales Rep Name    object\n",
       "Invoice_ID        object\n",
       "dtype: object"
      ]
     },
     "execution_count": 17,
     "metadata": {},
     "output_type": "execute_result"
    }
   ],
   "source": [
    "sales_data.dtypes"
   ]
  },
  {
   "cell_type": "code",
   "execution_count": 18,
   "id": "8376e114-7550-41b9-855e-37082cb8f89e",
   "metadata": {},
   "outputs": [
    {
     "data": {
      "text/plain": [
       "Index(['Sale Date', 'Units Sold', 'Revenue', 'Car Model', 'Color', 'Price',\n",
       "       'Region', 'Sales Rep Name', 'Invoice_ID'],\n",
       "      dtype='object')"
      ]
     },
     "execution_count": 18,
     "metadata": {},
     "output_type": "execute_result"
    }
   ],
   "source": [
    "sales_data.columns"
   ]
  },
  {
   "cell_type": "code",
   "execution_count": 19,
   "id": "83f3125d-025c-40e8-baea-6ad0a887278d",
   "metadata": {},
   "outputs": [],
   "source": [
    "sales_data['Sale Date'] = pd.to_datetime(sales_data['Sale Date'], errors = 'coerce')"
   ]
  },
  {
   "cell_type": "code",
   "execution_count": 20,
   "id": "8f3e805a-4e60-4ee6-836a-bc0f8139506f",
   "metadata": {},
   "outputs": [
    {
     "data": {
      "text/html": [
       "<div>\n",
       "<style scoped>\n",
       "    .dataframe tbody tr th:only-of-type {\n",
       "        vertical-align: middle;\n",
       "    }\n",
       "\n",
       "    .dataframe tbody tr th {\n",
       "        vertical-align: top;\n",
       "    }\n",
       "\n",
       "    .dataframe thead th {\n",
       "        text-align: right;\n",
       "    }\n",
       "</style>\n",
       "<table border=\"1\" class=\"dataframe\">\n",
       "  <thead>\n",
       "    <tr style=\"text-align: right;\">\n",
       "      <th></th>\n",
       "      <th>Sale Date</th>\n",
       "      <th>Units Sold</th>\n",
       "      <th>Revenue</th>\n",
       "      <th>Car Model</th>\n",
       "      <th>Color</th>\n",
       "      <th>Price</th>\n",
       "      <th>Region</th>\n",
       "      <th>Sales Rep Name</th>\n",
       "      <th>Invoice_ID</th>\n",
       "    </tr>\n",
       "  </thead>\n",
       "  <tbody>\n",
       "    <tr>\n",
       "      <th>0</th>\n",
       "      <td>2022-04-01</td>\n",
       "      <td>2</td>\n",
       "      <td>24000</td>\n",
       "      <td>Honda Civic</td>\n",
       "      <td>Red</td>\n",
       "      <td>12000</td>\n",
       "      <td>North</td>\n",
       "      <td>Julie</td>\n",
       "      <td>OLX-1201</td>\n",
       "    </tr>\n",
       "    <tr>\n",
       "      <th>1</th>\n",
       "      <td>2022-04-02</td>\n",
       "      <td>1</td>\n",
       "      <td>13000</td>\n",
       "      <td>Ford Focus</td>\n",
       "      <td>White</td>\n",
       "      <td>13000</td>\n",
       "      <td>South</td>\n",
       "      <td>Adam</td>\n",
       "      <td>OLX-1202</td>\n",
       "    </tr>\n",
       "    <tr>\n",
       "      <th>2</th>\n",
       "      <td>2022-04-03</td>\n",
       "      <td>2</td>\n",
       "      <td>50000</td>\n",
       "      <td>BMW 3 Series</td>\n",
       "      <td>Black</td>\n",
       "      <td>25000</td>\n",
       "      <td>East</td>\n",
       "      <td>Emily</td>\n",
       "      <td>OLX-1203</td>\n",
       "    </tr>\n",
       "    <tr>\n",
       "      <th>3</th>\n",
       "      <td>2022-04-04</td>\n",
       "      <td>1</td>\n",
       "      <td>23000</td>\n",
       "      <td>Audi A4</td>\n",
       "      <td>Gray</td>\n",
       "      <td>23000</td>\n",
       "      <td>West</td>\n",
       "      <td>James</td>\n",
       "      <td>OLX-1204</td>\n",
       "    </tr>\n",
       "    <tr>\n",
       "      <th>4</th>\n",
       "      <td>2022-04-05</td>\n",
       "      <td>2</td>\n",
       "      <td>54000</td>\n",
       "      <td>Mercedes C-Class</td>\n",
       "      <td>Silver</td>\n",
       "      <td>27000</td>\n",
       "      <td>North</td>\n",
       "      <td>Sarah</td>\n",
       "      <td>OLX-1205</td>\n",
       "    </tr>\n",
       "  </tbody>\n",
       "</table>\n",
       "</div>"
      ],
      "text/plain": [
       "   Sale Date  Units Sold  Revenue         Car Model   Color  Price Region  \\\n",
       "0 2022-04-01           2    24000       Honda Civic     Red  12000  North   \n",
       "1 2022-04-02           1    13000        Ford Focus   White  13000  South   \n",
       "2 2022-04-03           2    50000      BMW 3 Series   Black  25000   East   \n",
       "3 2022-04-04           1    23000           Audi A4    Gray  23000   West   \n",
       "4 2022-04-05           2    54000  Mercedes C-Class  Silver  27000  North   \n",
       "\n",
       "  Sales Rep Name Invoice_ID  \n",
       "0          Julie   OLX-1201  \n",
       "1           Adam   OLX-1202  \n",
       "2          Emily   OLX-1203  \n",
       "3          James   OLX-1204  \n",
       "4          Sarah   OLX-1205  "
      ]
     },
     "execution_count": 20,
     "metadata": {},
     "output_type": "execute_result"
    }
   ],
   "source": [
    "sales_data.head()"
   ]
  },
  {
   "cell_type": "code",
   "execution_count": 21,
   "id": "5f0cd35c-53b4-4e3d-aa4b-f7173dbfa34e",
   "metadata": {},
   "outputs": [
    {
     "data": {
      "text/plain": [
       "Sale Date         datetime64[ns]\n",
       "Units Sold                 int64\n",
       "Revenue                    int64\n",
       "Car Model                 object\n",
       "Color                     object\n",
       "Price                      int64\n",
       "Region                    object\n",
       "Sales Rep Name            object\n",
       "Invoice_ID                object\n",
       "dtype: object"
      ]
     },
     "execution_count": 21,
     "metadata": {},
     "output_type": "execute_result"
    }
   ],
   "source": [
    "sales_data.dtypes"
   ]
  },
  {
   "cell_type": "code",
   "execution_count": 22,
   "id": "820950cd-6316-40db-b549-aba0851de0a2",
   "metadata": {},
   "outputs": [
    {
     "name": "stdout",
     "output_type": "stream",
     "text": [
      "<class 'pandas.core.frame.DataFrame'>\n",
      "RangeIndex: 1075 entries, 0 to 1074\n",
      "Data columns (total 9 columns):\n",
      " #   Column          Non-Null Count  Dtype         \n",
      "---  ------          --------------  -----         \n",
      " 0   Sale Date       1075 non-null   datetime64[ns]\n",
      " 1   Units Sold      1075 non-null   int64         \n",
      " 2   Revenue         1075 non-null   int64         \n",
      " 3   Car Model       1075 non-null   object        \n",
      " 4   Color           1075 non-null   object        \n",
      " 5   Price           1075 non-null   int64         \n",
      " 6   Region          1075 non-null   object        \n",
      " 7   Sales Rep Name  1075 non-null   object        \n",
      " 8   Invoice_ID      1075 non-null   object        \n",
      "dtypes: datetime64[ns](1), int64(3), object(5)\n",
      "memory usage: 75.7+ KB\n"
     ]
    }
   ],
   "source": [
    "sales_data.info()"
   ]
  },
  {
   "cell_type": "code",
   "execution_count": 23,
   "id": "5f2580d3-9389-4f11-ac89-0b8a9a1920e8",
   "metadata": {},
   "outputs": [
    {
     "data": {
      "text/html": [
       "<div>\n",
       "<style scoped>\n",
       "    .dataframe tbody tr th:only-of-type {\n",
       "        vertical-align: middle;\n",
       "    }\n",
       "\n",
       "    .dataframe tbody tr th {\n",
       "        vertical-align: top;\n",
       "    }\n",
       "\n",
       "    .dataframe thead th {\n",
       "        text-align: right;\n",
       "    }\n",
       "</style>\n",
       "<table border=\"1\" class=\"dataframe\">\n",
       "  <thead>\n",
       "    <tr style=\"text-align: right;\">\n",
       "      <th></th>\n",
       "      <th>Sale Date</th>\n",
       "      <th>Units Sold</th>\n",
       "      <th>Revenue</th>\n",
       "      <th>Car Model</th>\n",
       "      <th>Color</th>\n",
       "      <th>Price</th>\n",
       "      <th>Region</th>\n",
       "      <th>Sales Rep Name</th>\n",
       "      <th>Invoice_ID</th>\n",
       "    </tr>\n",
       "  </thead>\n",
       "  <tbody>\n",
       "    <tr>\n",
       "      <th>0</th>\n",
       "      <td>2022-04-01</td>\n",
       "      <td>2</td>\n",
       "      <td>24000</td>\n",
       "      <td>Honda Civic</td>\n",
       "      <td>Red</td>\n",
       "      <td>12000</td>\n",
       "      <td>North</td>\n",
       "      <td>Julie</td>\n",
       "      <td>OLX-1201</td>\n",
       "    </tr>\n",
       "    <tr>\n",
       "      <th>1</th>\n",
       "      <td>2022-04-02</td>\n",
       "      <td>1</td>\n",
       "      <td>13000</td>\n",
       "      <td>Ford Focus</td>\n",
       "      <td>White</td>\n",
       "      <td>13000</td>\n",
       "      <td>South</td>\n",
       "      <td>Adam</td>\n",
       "      <td>OLX-1202</td>\n",
       "    </tr>\n",
       "    <tr>\n",
       "      <th>2</th>\n",
       "      <td>2022-04-03</td>\n",
       "      <td>2</td>\n",
       "      <td>50000</td>\n",
       "      <td>BMW 3 Series</td>\n",
       "      <td>Black</td>\n",
       "      <td>25000</td>\n",
       "      <td>East</td>\n",
       "      <td>Emily</td>\n",
       "      <td>OLX-1203</td>\n",
       "    </tr>\n",
       "    <tr>\n",
       "      <th>3</th>\n",
       "      <td>2022-04-04</td>\n",
       "      <td>1</td>\n",
       "      <td>23000</td>\n",
       "      <td>Audi A4</td>\n",
       "      <td>Gray</td>\n",
       "      <td>23000</td>\n",
       "      <td>West</td>\n",
       "      <td>James</td>\n",
       "      <td>OLX-1204</td>\n",
       "    </tr>\n",
       "    <tr>\n",
       "      <th>4</th>\n",
       "      <td>2022-04-05</td>\n",
       "      <td>2</td>\n",
       "      <td>54000</td>\n",
       "      <td>Mercedes C-Class</td>\n",
       "      <td>Silver</td>\n",
       "      <td>27000</td>\n",
       "      <td>North</td>\n",
       "      <td>Sarah</td>\n",
       "      <td>OLX-1205</td>\n",
       "    </tr>\n",
       "  </tbody>\n",
       "</table>\n",
       "</div>"
      ],
      "text/plain": [
       "   Sale Date  Units Sold  Revenue         Car Model   Color  Price Region  \\\n",
       "0 2022-04-01           2    24000       Honda Civic     Red  12000  North   \n",
       "1 2022-04-02           1    13000        Ford Focus   White  13000  South   \n",
       "2 2022-04-03           2    50000      BMW 3 Series   Black  25000   East   \n",
       "3 2022-04-04           1    23000           Audi A4    Gray  23000   West   \n",
       "4 2022-04-05           2    54000  Mercedes C-Class  Silver  27000  North   \n",
       "\n",
       "  Sales Rep Name Invoice_ID  \n",
       "0          Julie   OLX-1201  \n",
       "1           Adam   OLX-1202  \n",
       "2          Emily   OLX-1203  \n",
       "3          James   OLX-1204  \n",
       "4          Sarah   OLX-1205  "
      ]
     },
     "execution_count": 23,
     "metadata": {},
     "output_type": "execute_result"
    }
   ],
   "source": [
    "sales_data.head()"
   ]
  },
  {
   "cell_type": "code",
   "execution_count": 24,
   "id": "1a86170b-4e65-499b-99a8-254a287f358e",
   "metadata": {},
   "outputs": [],
   "source": [
    "sales_data['Year'] = sales_data['Sale Date'].dt.year.astype(str)\n",
    "sales_data['Quarter'] = \"Q\" + sales_data['Sale Date'].dt.quarter.astype(str)\n",
    "\n",
    "# Formatting the monthname (%B for Complete month name, %b for short name of the month using dt.strftime() method.\n",
    "sales_data['Month'] = sales_data['Sale Date'].dt.strftime('%B')  "
   ]
  },
  {
   "cell_type": "code",
   "execution_count": 25,
   "id": "4922c2e6-5870-4295-a04e-f6ad7bcd467c",
   "metadata": {},
   "outputs": [
    {
     "data": {
      "text/html": [
       "<div>\n",
       "<style scoped>\n",
       "    .dataframe tbody tr th:only-of-type {\n",
       "        vertical-align: middle;\n",
       "    }\n",
       "\n",
       "    .dataframe tbody tr th {\n",
       "        vertical-align: top;\n",
       "    }\n",
       "\n",
       "    .dataframe thead th {\n",
       "        text-align: right;\n",
       "    }\n",
       "</style>\n",
       "<table border=\"1\" class=\"dataframe\">\n",
       "  <thead>\n",
       "    <tr style=\"text-align: right;\">\n",
       "      <th></th>\n",
       "      <th>Sale Date</th>\n",
       "      <th>Units Sold</th>\n",
       "      <th>Revenue</th>\n",
       "      <th>Car Model</th>\n",
       "      <th>Color</th>\n",
       "      <th>Price</th>\n",
       "      <th>Region</th>\n",
       "      <th>Sales Rep Name</th>\n",
       "      <th>Invoice_ID</th>\n",
       "      <th>Year</th>\n",
       "      <th>Quarter</th>\n",
       "      <th>Month</th>\n",
       "    </tr>\n",
       "  </thead>\n",
       "  <tbody>\n",
       "    <tr>\n",
       "      <th>0</th>\n",
       "      <td>2022-04-01</td>\n",
       "      <td>2</td>\n",
       "      <td>24000</td>\n",
       "      <td>Honda Civic</td>\n",
       "      <td>Red</td>\n",
       "      <td>12000</td>\n",
       "      <td>North</td>\n",
       "      <td>Julie</td>\n",
       "      <td>OLX-1201</td>\n",
       "      <td>2022</td>\n",
       "      <td>Q2</td>\n",
       "      <td>April</td>\n",
       "    </tr>\n",
       "    <tr>\n",
       "      <th>1</th>\n",
       "      <td>2022-04-02</td>\n",
       "      <td>1</td>\n",
       "      <td>13000</td>\n",
       "      <td>Ford Focus</td>\n",
       "      <td>White</td>\n",
       "      <td>13000</td>\n",
       "      <td>South</td>\n",
       "      <td>Adam</td>\n",
       "      <td>OLX-1202</td>\n",
       "      <td>2022</td>\n",
       "      <td>Q2</td>\n",
       "      <td>April</td>\n",
       "    </tr>\n",
       "    <tr>\n",
       "      <th>2</th>\n",
       "      <td>2022-04-03</td>\n",
       "      <td>2</td>\n",
       "      <td>50000</td>\n",
       "      <td>BMW 3 Series</td>\n",
       "      <td>Black</td>\n",
       "      <td>25000</td>\n",
       "      <td>East</td>\n",
       "      <td>Emily</td>\n",
       "      <td>OLX-1203</td>\n",
       "      <td>2022</td>\n",
       "      <td>Q2</td>\n",
       "      <td>April</td>\n",
       "    </tr>\n",
       "    <tr>\n",
       "      <th>3</th>\n",
       "      <td>2022-04-04</td>\n",
       "      <td>1</td>\n",
       "      <td>23000</td>\n",
       "      <td>Audi A4</td>\n",
       "      <td>Gray</td>\n",
       "      <td>23000</td>\n",
       "      <td>West</td>\n",
       "      <td>James</td>\n",
       "      <td>OLX-1204</td>\n",
       "      <td>2022</td>\n",
       "      <td>Q2</td>\n",
       "      <td>April</td>\n",
       "    </tr>\n",
       "    <tr>\n",
       "      <th>4</th>\n",
       "      <td>2022-04-05</td>\n",
       "      <td>2</td>\n",
       "      <td>54000</td>\n",
       "      <td>Mercedes C-Class</td>\n",
       "      <td>Silver</td>\n",
       "      <td>27000</td>\n",
       "      <td>North</td>\n",
       "      <td>Sarah</td>\n",
       "      <td>OLX-1205</td>\n",
       "      <td>2022</td>\n",
       "      <td>Q2</td>\n",
       "      <td>April</td>\n",
       "    </tr>\n",
       "  </tbody>\n",
       "</table>\n",
       "</div>"
      ],
      "text/plain": [
       "   Sale Date  Units Sold  Revenue         Car Model   Color  Price Region  \\\n",
       "0 2022-04-01           2    24000       Honda Civic     Red  12000  North   \n",
       "1 2022-04-02           1    13000        Ford Focus   White  13000  South   \n",
       "2 2022-04-03           2    50000      BMW 3 Series   Black  25000   East   \n",
       "3 2022-04-04           1    23000           Audi A4    Gray  23000   West   \n",
       "4 2022-04-05           2    54000  Mercedes C-Class  Silver  27000  North   \n",
       "\n",
       "  Sales Rep Name Invoice_ID  Year Quarter  Month  \n",
       "0          Julie   OLX-1201  2022      Q2  April  \n",
       "1           Adam   OLX-1202  2022      Q2  April  \n",
       "2          Emily   OLX-1203  2022      Q2  April  \n",
       "3          James   OLX-1204  2022      Q2  April  \n",
       "4          Sarah   OLX-1205  2022      Q2  April  "
      ]
     },
     "execution_count": 25,
     "metadata": {},
     "output_type": "execute_result"
    }
   ],
   "source": [
    "sales_data.head()"
   ]
  },
  {
   "cell_type": "code",
   "execution_count": 26,
   "id": "8d33826f-c0ad-4add-91ea-93aa146064c6",
   "metadata": {},
   "outputs": [],
   "source": [
    "# Adding this abbreviations to convert the complete month name to short name for the months. \n",
    "\n",
    "month_abbreviations = {\n",
    "    'January': 'Jan',\n",
    "    'February': 'Feb',\n",
    "    'March': 'Mar',\n",
    "    'April': 'Apr',\n",
    "    'May': 'May',\n",
    "    'June': 'Jun',\n",
    "    'July': 'Jul',\n",
    "    'August': 'Aug',\n",
    "    'September': 'Sep',\n",
    "    'October': 'Oct',\n",
    "    'November': 'Nov',\n",
    "    'December': 'Dec'\n",
    "}\n",
    "\n",
    "sales_data['Month'] = sales_data['Month'].map(month_abbreviations)"
   ]
  },
  {
   "cell_type": "code",
   "execution_count": 27,
   "id": "0c741db3-b02e-4de4-9070-bb793093b0b0",
   "metadata": {},
   "outputs": [
    {
     "data": {
      "text/html": [
       "<div>\n",
       "<style scoped>\n",
       "    .dataframe tbody tr th:only-of-type {\n",
       "        vertical-align: middle;\n",
       "    }\n",
       "\n",
       "    .dataframe tbody tr th {\n",
       "        vertical-align: top;\n",
       "    }\n",
       "\n",
       "    .dataframe thead th {\n",
       "        text-align: right;\n",
       "    }\n",
       "</style>\n",
       "<table border=\"1\" class=\"dataframe\">\n",
       "  <thead>\n",
       "    <tr style=\"text-align: right;\">\n",
       "      <th></th>\n",
       "      <th>Sale Date</th>\n",
       "      <th>Units Sold</th>\n",
       "      <th>Revenue</th>\n",
       "      <th>Car Model</th>\n",
       "      <th>Color</th>\n",
       "      <th>Price</th>\n",
       "      <th>Region</th>\n",
       "      <th>Sales Rep Name</th>\n",
       "      <th>Invoice_ID</th>\n",
       "      <th>Year</th>\n",
       "      <th>Quarter</th>\n",
       "      <th>Month</th>\n",
       "    </tr>\n",
       "  </thead>\n",
       "  <tbody>\n",
       "    <tr>\n",
       "      <th>0</th>\n",
       "      <td>2022-04-01</td>\n",
       "      <td>2</td>\n",
       "      <td>24000</td>\n",
       "      <td>Honda Civic</td>\n",
       "      <td>Red</td>\n",
       "      <td>12000</td>\n",
       "      <td>North</td>\n",
       "      <td>Julie</td>\n",
       "      <td>OLX-1201</td>\n",
       "      <td>2022</td>\n",
       "      <td>Q2</td>\n",
       "      <td>Apr</td>\n",
       "    </tr>\n",
       "    <tr>\n",
       "      <th>1</th>\n",
       "      <td>2022-04-02</td>\n",
       "      <td>1</td>\n",
       "      <td>13000</td>\n",
       "      <td>Ford Focus</td>\n",
       "      <td>White</td>\n",
       "      <td>13000</td>\n",
       "      <td>South</td>\n",
       "      <td>Adam</td>\n",
       "      <td>OLX-1202</td>\n",
       "      <td>2022</td>\n",
       "      <td>Q2</td>\n",
       "      <td>Apr</td>\n",
       "    </tr>\n",
       "    <tr>\n",
       "      <th>2</th>\n",
       "      <td>2022-04-03</td>\n",
       "      <td>2</td>\n",
       "      <td>50000</td>\n",
       "      <td>BMW 3 Series</td>\n",
       "      <td>Black</td>\n",
       "      <td>25000</td>\n",
       "      <td>East</td>\n",
       "      <td>Emily</td>\n",
       "      <td>OLX-1203</td>\n",
       "      <td>2022</td>\n",
       "      <td>Q2</td>\n",
       "      <td>Apr</td>\n",
       "    </tr>\n",
       "    <tr>\n",
       "      <th>3</th>\n",
       "      <td>2022-04-04</td>\n",
       "      <td>1</td>\n",
       "      <td>23000</td>\n",
       "      <td>Audi A4</td>\n",
       "      <td>Gray</td>\n",
       "      <td>23000</td>\n",
       "      <td>West</td>\n",
       "      <td>James</td>\n",
       "      <td>OLX-1204</td>\n",
       "      <td>2022</td>\n",
       "      <td>Q2</td>\n",
       "      <td>Apr</td>\n",
       "    </tr>\n",
       "    <tr>\n",
       "      <th>4</th>\n",
       "      <td>2022-04-05</td>\n",
       "      <td>2</td>\n",
       "      <td>54000</td>\n",
       "      <td>Mercedes C-Class</td>\n",
       "      <td>Silver</td>\n",
       "      <td>27000</td>\n",
       "      <td>North</td>\n",
       "      <td>Sarah</td>\n",
       "      <td>OLX-1205</td>\n",
       "      <td>2022</td>\n",
       "      <td>Q2</td>\n",
       "      <td>Apr</td>\n",
       "    </tr>\n",
       "  </tbody>\n",
       "</table>\n",
       "</div>"
      ],
      "text/plain": [
       "   Sale Date  Units Sold  Revenue         Car Model   Color  Price Region  \\\n",
       "0 2022-04-01           2    24000       Honda Civic     Red  12000  North   \n",
       "1 2022-04-02           1    13000        Ford Focus   White  13000  South   \n",
       "2 2022-04-03           2    50000      BMW 3 Series   Black  25000   East   \n",
       "3 2022-04-04           1    23000           Audi A4    Gray  23000   West   \n",
       "4 2022-04-05           2    54000  Mercedes C-Class  Silver  27000  North   \n",
       "\n",
       "  Sales Rep Name Invoice_ID  Year Quarter Month  \n",
       "0          Julie   OLX-1201  2022      Q2   Apr  \n",
       "1           Adam   OLX-1202  2022      Q2   Apr  \n",
       "2          Emily   OLX-1203  2022      Q2   Apr  \n",
       "3          James   OLX-1204  2022      Q2   Apr  \n",
       "4          Sarah   OLX-1205  2022      Q2   Apr  "
      ]
     },
     "execution_count": 27,
     "metadata": {},
     "output_type": "execute_result"
    }
   ],
   "source": [
    "sales_data.head()"
   ]
  },
  {
   "cell_type": "code",
   "execution_count": 28,
   "id": "4619db76-82f0-41e1-9f06-3eb5e6bb7ae5",
   "metadata": {},
   "outputs": [],
   "source": [
    "sales_data['Sales'] = sales_data['Price'] * sales_data['Units Sold']"
   ]
  },
  {
   "cell_type": "code",
   "execution_count": 29,
   "id": "c9f3dacf-bf13-4363-94f2-922d2cbc7cbd",
   "metadata": {},
   "outputs": [
    {
     "data": {
      "text/plain": [
       "Sale Date         datetime64[ns]\n",
       "Units Sold                 int64\n",
       "Revenue                    int64\n",
       "Car Model                 object\n",
       "Color                     object\n",
       "Price                      int64\n",
       "Region                    object\n",
       "Sales Rep Name            object\n",
       "Invoice_ID                object\n",
       "Year                      object\n",
       "Quarter                   object\n",
       "Month                     object\n",
       "Sales                      int64\n",
       "dtype: object"
      ]
     },
     "execution_count": 29,
     "metadata": {},
     "output_type": "execute_result"
    }
   ],
   "source": [
    "sales_data.dtypes"
   ]
  },
  {
   "cell_type": "code",
   "execution_count": 30,
   "id": "12bb93b3-db35-4628-a54c-2569d39fa1d5",
   "metadata": {},
   "outputs": [],
   "source": [
    "# Finding the Total Sales By Region\n",
    "\n",
    "total_sales_by_region = sales_data.groupby('Region')['Sales'].sum().reset_index()\n",
    "total_sales_by_region['Sales'] = pd.to_numeric(total_sales_by_region['Sales'])/1_000_000\n",
    "\n",
    "# Finding the Total Sales By Car Model\n",
    "\n",
    "total_sales_by_car_model = sales_data.groupby('Car Model')['Sales'].sum().reset_index()\n",
    "total_sales_by_car_model['Sales'] = pd.to_numeric(total_sales_by_car_model['Sales'])/1_000_000\n",
    "\n",
    "# Finding the Total Sales By Color\n",
    "\n",
    "total_sales_by_color = sales_data.groupby('Color')['Sales'].sum().reset_index()\n",
    "total_sales_by_color['Sales'] = pd.to_numeric(total_sales_by_color['Sales'])/1_000_000\n",
    "\n",
    "# Finding the Total Revenue By Sales Rep Name\n",
    "\n",
    "revenue_by_sales_rep = sales_data.groupby('Sales Rep Name')['Revenue'].sum().reset_index()\n",
    "revenue_by_sales_rep['Revenue'] = pd.to_numeric(revenue_by_sales_rep['Revenue'])/1_000_000\n",
    "\n",
    "# Finding the Average Sales By Car Model\n",
    "\n",
    "avg_sales_by_car_model = sales_data.groupby('Car Model')['Sales'].mean().reset_index()\n",
    "avg_sales_by_car_model['Sales'] = pd.to_numeric(avg_sales_by_car_model['Sales'])/1_000"
   ]
  },
  {
   "cell_type": "code",
   "execution_count": 31,
   "id": "0db36fc5-24fe-4a08-adee-d545a30c5162",
   "metadata": {},
   "outputs": [
    {
     "data": {
      "text/html": [
       "<div>\n",
       "<style scoped>\n",
       "    .dataframe tbody tr th:only-of-type {\n",
       "        vertical-align: middle;\n",
       "    }\n",
       "\n",
       "    .dataframe tbody tr th {\n",
       "        vertical-align: top;\n",
       "    }\n",
       "\n",
       "    .dataframe thead th {\n",
       "        text-align: right;\n",
       "    }\n",
       "</style>\n",
       "<table border=\"1\" class=\"dataframe\">\n",
       "  <thead>\n",
       "    <tr style=\"text-align: right;\">\n",
       "      <th></th>\n",
       "      <th>Region</th>\n",
       "      <th>Sales</th>\n",
       "    </tr>\n",
       "  </thead>\n",
       "  <tbody>\n",
       "    <tr>\n",
       "      <th>0</th>\n",
       "      <td>East</td>\n",
       "      <td>5.886</td>\n",
       "    </tr>\n",
       "    <tr>\n",
       "      <th>1</th>\n",
       "      <td>North</td>\n",
       "      <td>11.736</td>\n",
       "    </tr>\n",
       "    <tr>\n",
       "      <th>2</th>\n",
       "      <td>South</td>\n",
       "      <td>4.873</td>\n",
       "    </tr>\n",
       "    <tr>\n",
       "      <th>3</th>\n",
       "      <td>West</td>\n",
       "      <td>6.934</td>\n",
       "    </tr>\n",
       "  </tbody>\n",
       "</table>\n",
       "</div>"
      ],
      "text/plain": [
       "  Region   Sales\n",
       "0   East   5.886\n",
       "1  North  11.736\n",
       "2  South   4.873\n",
       "3   West   6.934"
      ]
     },
     "execution_count": 31,
     "metadata": {},
     "output_type": "execute_result"
    }
   ],
   "source": [
    "total_sales_by_region"
   ]
  },
  {
   "cell_type": "code",
   "execution_count": 32,
   "id": "d8caa8e8-9de2-4cfc-bc1a-6c1d51466c8f",
   "metadata": {},
   "outputs": [
    {
     "data": {
      "text/html": [
       "<div>\n",
       "<style scoped>\n",
       "    .dataframe tbody tr th:only-of-type {\n",
       "        vertical-align: middle;\n",
       "    }\n",
       "\n",
       "    .dataframe tbody tr th {\n",
       "        vertical-align: top;\n",
       "    }\n",
       "\n",
       "    .dataframe thead th {\n",
       "        text-align: right;\n",
       "    }\n",
       "</style>\n",
       "<table border=\"1\" class=\"dataframe\">\n",
       "  <thead>\n",
       "    <tr style=\"text-align: right;\">\n",
       "      <th></th>\n",
       "      <th>Color</th>\n",
       "      <th>Sales</th>\n",
       "    </tr>\n",
       "  </thead>\n",
       "  <tbody>\n",
       "    <tr>\n",
       "      <th>0</th>\n",
       "      <td>Black</td>\n",
       "      <td>7.058</td>\n",
       "    </tr>\n",
       "    <tr>\n",
       "      <th>1</th>\n",
       "      <td>Blue</td>\n",
       "      <td>5.683</td>\n",
       "    </tr>\n",
       "    <tr>\n",
       "      <th>2</th>\n",
       "      <td>Gray</td>\n",
       "      <td>3.335</td>\n",
       "    </tr>\n",
       "    <tr>\n",
       "      <th>3</th>\n",
       "      <td>Green</td>\n",
       "      <td>2.112</td>\n",
       "    </tr>\n",
       "    <tr>\n",
       "      <th>4</th>\n",
       "      <td>Red</td>\n",
       "      <td>1.968</td>\n",
       "    </tr>\n",
       "    <tr>\n",
       "      <th>5</th>\n",
       "      <td>Silver</td>\n",
       "      <td>4.725</td>\n",
       "    </tr>\n",
       "    <tr>\n",
       "      <th>6</th>\n",
       "      <td>White</td>\n",
       "      <td>2.392</td>\n",
       "    </tr>\n",
       "    <tr>\n",
       "      <th>7</th>\n",
       "      <td>Yellow</td>\n",
       "      <td>2.156</td>\n",
       "    </tr>\n",
       "  </tbody>\n",
       "</table>\n",
       "</div>"
      ],
      "text/plain": [
       "    Color  Sales\n",
       "0   Black  7.058\n",
       "1    Blue  5.683\n",
       "2    Gray  3.335\n",
       "3   Green  2.112\n",
       "4     Red  1.968\n",
       "5  Silver  4.725\n",
       "6   White  2.392\n",
       "7  Yellow  2.156"
      ]
     },
     "execution_count": 32,
     "metadata": {},
     "output_type": "execute_result"
    }
   ],
   "source": [
    "total_sales_by_color"
   ]
  },
  {
   "cell_type": "code",
   "execution_count": 33,
   "id": "703adf77-553d-498f-8775-dd89d70152fb",
   "metadata": {},
   "outputs": [
    {
     "data": {
      "text/html": [
       "<div>\n",
       "<style scoped>\n",
       "    .dataframe tbody tr th:only-of-type {\n",
       "        vertical-align: middle;\n",
       "    }\n",
       "\n",
       "    .dataframe tbody tr th {\n",
       "        vertical-align: top;\n",
       "    }\n",
       "\n",
       "    .dataframe thead th {\n",
       "        text-align: right;\n",
       "    }\n",
       "</style>\n",
       "<table border=\"1\" class=\"dataframe\">\n",
       "  <thead>\n",
       "    <tr style=\"text-align: right;\">\n",
       "      <th></th>\n",
       "      <th>Sales Rep Name</th>\n",
       "      <th>Revenue</th>\n",
       "    </tr>\n",
       "  </thead>\n",
       "  <tbody>\n",
       "    <tr>\n",
       "      <th>0</th>\n",
       "      <td>Adam</td>\n",
       "      <td>4.716</td>\n",
       "    </tr>\n",
       "    <tr>\n",
       "      <th>1</th>\n",
       "      <td>Emily</td>\n",
       "      <td>4.932</td>\n",
       "    </tr>\n",
       "    <tr>\n",
       "      <th>2</th>\n",
       "      <td>James</td>\n",
       "      <td>7.039</td>\n",
       "    </tr>\n",
       "    <tr>\n",
       "      <th>3</th>\n",
       "      <td>Julie</td>\n",
       "      <td>6.737</td>\n",
       "    </tr>\n",
       "    <tr>\n",
       "      <th>4</th>\n",
       "      <td>Sarah</td>\n",
       "      <td>5.832</td>\n",
       "    </tr>\n",
       "  </tbody>\n",
       "</table>\n",
       "</div>"
      ],
      "text/plain": [
       "  Sales Rep Name  Revenue\n",
       "0           Adam    4.716\n",
       "1          Emily    4.932\n",
       "2          James    7.039\n",
       "3          Julie    6.737\n",
       "4          Sarah    5.832"
      ]
     },
     "execution_count": 33,
     "metadata": {},
     "output_type": "execute_result"
    }
   ],
   "source": [
    "revenue_by_sales_rep"
   ]
  },
  {
   "cell_type": "code",
   "execution_count": 34,
   "id": "35c99170-0b6f-43c2-bdf4-d4586ac2ce2d",
   "metadata": {},
   "outputs": [
    {
     "data": {
      "text/html": [
       "<div>\n",
       "<style scoped>\n",
       "    .dataframe tbody tr th:only-of-type {\n",
       "        vertical-align: middle;\n",
       "    }\n",
       "\n",
       "    .dataframe tbody tr th {\n",
       "        vertical-align: top;\n",
       "    }\n",
       "\n",
       "    .dataframe thead th {\n",
       "        text-align: right;\n",
       "    }\n",
       "</style>\n",
       "<table border=\"1\" class=\"dataframe\">\n",
       "  <thead>\n",
       "    <tr style=\"text-align: right;\">\n",
       "      <th></th>\n",
       "      <th>Car Model</th>\n",
       "      <th>Sales</th>\n",
       "    </tr>\n",
       "  </thead>\n",
       "  <tbody>\n",
       "    <tr>\n",
       "      <th>0</th>\n",
       "      <td>Audi A4</td>\n",
       "      <td>30.879630</td>\n",
       "    </tr>\n",
       "    <tr>\n",
       "      <th>1</th>\n",
       "      <td>BMW 3 Series</td>\n",
       "      <td>43.518519</td>\n",
       "    </tr>\n",
       "    <tr>\n",
       "      <th>2</th>\n",
       "      <td>Chevrolet Malibu</td>\n",
       "      <td>32.019417</td>\n",
       "    </tr>\n",
       "    <tr>\n",
       "      <th>3</th>\n",
       "      <td>Ford Focus</td>\n",
       "      <td>21.745455</td>\n",
       "    </tr>\n",
       "    <tr>\n",
       "      <th>4</th>\n",
       "      <td>Honda Civic</td>\n",
       "      <td>17.890909</td>\n",
       "    </tr>\n",
       "    <tr>\n",
       "      <th>5</th>\n",
       "      <td>Hyundai Elantra</td>\n",
       "      <td>20.730769</td>\n",
       "    </tr>\n",
       "    <tr>\n",
       "      <th>6</th>\n",
       "      <td>Kia Optima</td>\n",
       "      <td>23.117647</td>\n",
       "    </tr>\n",
       "    <tr>\n",
       "      <th>7</th>\n",
       "      <td>Mercedes C-Class</td>\n",
       "      <td>44.575472</td>\n",
       "    </tr>\n",
       "    <tr>\n",
       "      <th>8</th>\n",
       "      <td>Nissan Altima</td>\n",
       "      <td>20.307692</td>\n",
       "    </tr>\n",
       "    <tr>\n",
       "      <th>9</th>\n",
       "      <td>Toyota Camry</td>\n",
       "      <td>19.875000</td>\n",
       "    </tr>\n",
       "  </tbody>\n",
       "</table>\n",
       "</div>"
      ],
      "text/plain": [
       "          Car Model      Sales\n",
       "0           Audi A4  30.879630\n",
       "1      BMW 3 Series  43.518519\n",
       "2  Chevrolet Malibu  32.019417\n",
       "3        Ford Focus  21.745455\n",
       "4       Honda Civic  17.890909\n",
       "5   Hyundai Elantra  20.730769\n",
       "6        Kia Optima  23.117647\n",
       "7  Mercedes C-Class  44.575472\n",
       "8     Nissan Altima  20.307692\n",
       "9      Toyota Camry  19.875000"
      ]
     },
     "execution_count": 34,
     "metadata": {},
     "output_type": "execute_result"
    }
   ],
   "source": [
    "avg_sales_by_car_model"
   ]
  },
  {
   "cell_type": "code",
   "execution_count": 35,
   "id": "4e935230-a892-4f10-bd53-6191bda3774b",
   "metadata": {},
   "outputs": [
    {
     "data": {
      "text/plain": [
       "Region     object\n",
       "Sales     float64\n",
       "dtype: object"
      ]
     },
     "execution_count": 35,
     "metadata": {},
     "output_type": "execute_result"
    }
   ],
   "source": [
    "total_sales_by_region.dtypes"
   ]
  },
  {
   "cell_type": "code",
   "execution_count": null,
   "id": "d3bbe256-bc87-43e6-8bb5-d728d02732f9",
   "metadata": {},
   "outputs": [],
   "source": []
  },
  {
   "cell_type": "code",
   "execution_count": 52,
   "id": "5857768d-10df-4018-a6af-8218c79f1c44",
   "metadata": {
    "scrolled": true
   },
   "outputs": [
    {
     "data": {
      "image/png": "[encoded data removed]",
      "text/plain": [
       "<Figure size 500x300 with 1 Axes>"
      ]
     },
     "metadata": {},
     "output_type": "display_data"
    }
   ],
   "source": [
    "plt.figure(figsize = (5,3))\n",
    "bar_plot_1 = sns.barplot(data = total_sales_by_region, x = 'Region', y = 'Sales', color = '#ddb892')\n",
    "\n",
    "for index, row in total_sales_by_region.iterrows():\n",
    "    bar_plot_1.text(index, row.Sales - 0.5, f'{row.Sales:,.2f} M', color = 'black', ha = 'center', va = 'top')\n",
    "\n",
    "plt.title('Total Sales By Region')\n",
    "plt.show()"
   ]
  },
  {
   "cell_type": "code",
   "execution_count": null,
   "id": "c7757626-d48f-48b4-9f31-07cd967dc126",
   "metadata": {},
   "outputs": [],
   "source": []
  },
  {
   "cell_type": "code",
   "execution_count": 54,
   "id": "221a4e6c-1210-4a19-ad42-7239e2f3f89c",
   "metadata": {},
   "outputs": [
    {
     "data": {
      "text/plain": [
       "Text(0.5, 1.0, 'Total Sales by Car Model')"
      ]
     },
     "execution_count": 54,
     "metadata": {},
     "output_type": "execute_result"
    },
    {
     "data": {
      "image/png": "[encoded data removed]",
      "text/plain": [
       "<Figure size 1500x400 with 1 Axes>"
      ]
     },
     "metadata": {},
     "output_type": "display_data"
    }
   ],
   "source": [
    "plt.figure(figsize = (15,4))\n",
    "bar_plot_2 = sns.barplot(data = total_sales_by_car_model, x = 'Car Model', y = 'Sales', color= '#ddb892')\n",
    "\n",
    "for index, row in total_sales_by_car_model.iterrows():\n",
    "    bar_plot_2.text(index, row.Sales - 0.2, f'{row.Sales:.2f} M', color = 'black',ha = 'center', va = 'top')\n",
    "\n",
    "plt.title('Total Sales by Car Model')"
   ]
  },
  {
   "cell_type": "code",
   "execution_count": null,
   "id": "94de91e6-9795-4222-a3c8-c295bbcd39ca",
   "metadata": {},
   "outputs": [],
   "source": []
  },
  {
   "cell_type": "code",
   "execution_count": 55,
   "id": "72a3b5ad-e203-45b7-a453-5825cfac7aec",
   "metadata": {},
   "outputs": [
    {
     "data": {
      "text/plain": [
       "Text(0.5, 1.0, 'Total Sales by Color')"
      ]
     },
     "execution_count": 55,
     "metadata": {},
     "output_type": "execute_result"
    },
    {
     "data": {
      "image/png": "[encoded data removed]",
      "text/plain": [
       "<Figure size 1000x400 with 1 Axes>"
      ]
     },
     "metadata": {},
     "output_type": "display_data"
    }
   ],
   "source": [
    "plt.figure(figsize = (10,4))\n",
    "bar_plot_3 = sns.barplot(data = total_sales_by_color, x = 'Color', y = 'Sales', color = '#ddb892')\n",
    "\n",
    "for index, row in total_sales_by_color.iterrows():\n",
    "    bar_plot_3.text(index, row.Sales - 0.2, f'{row.Sales:.2f} M', color = 'black',ha = 'center', va = 'top')\n",
    "\n",
    "plt.title('Total Sales by Color')"
   ]
  },
  {
   "cell_type": "code",
   "execution_count": 39,
   "id": "0bf7b608-d1cb-4816-89e1-43833f3e1ef2",
   "metadata": {},
   "outputs": [
    {
     "data": {
      "text/html": [
       "<div>\n",
       "<style scoped>\n",
       "    .dataframe tbody tr th:only-of-type {\n",
       "        vertical-align: middle;\n",
       "    }\n",
       "\n",
       "    .dataframe tbody tr th {\n",
       "        vertical-align: top;\n",
       "    }\n",
       "\n",
       "    .dataframe thead th {\n",
       "        text-align: right;\n",
       "    }\n",
       "</style>\n",
       "<table border=\"1\" class=\"dataframe\">\n",
       "  <thead>\n",
       "    <tr style=\"text-align: right;\">\n",
       "      <th></th>\n",
       "      <th>Sales Rep Name</th>\n",
       "      <th>Revenue</th>\n",
       "    </tr>\n",
       "  </thead>\n",
       "  <tbody>\n",
       "    <tr>\n",
       "      <th>0</th>\n",
       "      <td>Adam</td>\n",
       "      <td>4.716</td>\n",
       "    </tr>\n",
       "    <tr>\n",
       "      <th>1</th>\n",
       "      <td>Emily</td>\n",
       "      <td>4.932</td>\n",
       "    </tr>\n",
       "    <tr>\n",
       "      <th>2</th>\n",
       "      <td>James</td>\n",
       "      <td>7.039</td>\n",
       "    </tr>\n",
       "    <tr>\n",
       "      <th>3</th>\n",
       "      <td>Julie</td>\n",
       "      <td>6.737</td>\n",
       "    </tr>\n",
       "    <tr>\n",
       "      <th>4</th>\n",
       "      <td>Sarah</td>\n",
       "      <td>5.832</td>\n",
       "    </tr>\n",
       "  </tbody>\n",
       "</table>\n",
       "</div>"
      ],
      "text/plain": [
       "  Sales Rep Name  Revenue\n",
       "0           Adam    4.716\n",
       "1          Emily    4.932\n",
       "2          James    7.039\n",
       "3          Julie    6.737\n",
       "4          Sarah    5.832"
      ]
     },
     "execution_count": 39,
     "metadata": {},
     "output_type": "execute_result"
    }
   ],
   "source": [
    "revenue_by_sales_rep"
   ]
  },
  {
   "cell_type": "code",
   "execution_count": 56,
   "id": "759df3cc-81ea-4637-a02d-9dbf89b1e714",
   "metadata": {},
   "outputs": [
    {
     "data": {
      "text/plain": [
       "Text(0.5, 1.0, 'Total Revenue by Sales Representative')"
      ]
     },
     "execution_count": 56,
     "metadata": {},
     "output_type": "execute_result"
    },
    {
     "data": {
      "image/png": "[encoded data removed]",
      "text/plain": [
       "<Figure size 600x300 with 1 Axes>"
      ]
     },
     "metadata": {},
     "output_type": "display_data"
    }
   ],
   "source": [
    "plt.figure(figsize = (6,3))\n",
    "bar_plot_4 = sns.barplot(data = revenue_by_sales_rep, x = 'Sales Rep Name', y = 'Revenue', color = '#ddb892')\n",
    "\n",
    "for index, row in revenue_by_sales_rep.iterrows():\n",
    "    bar_plot_4.text(index, row.Revenue - 0.2, f'{row.Revenue:.2f} M', color = 'black',ha = 'center', va = 'top')\n",
    "\n",
    "plt.title('Total Revenue by Sales Representative')"
   ]
  },
  {
   "cell_type": "code",
   "execution_count": null,
   "id": "ca1e12f4-bac2-48aa-9f24-cc1a7350dd82",
   "metadata": {},
   "outputs": [],
   "source": []
  },
  {
   "cell_type": "code",
   "execution_count": 57,
   "id": "9aa7d88f-f813-4501-aa77-34fb36d88142",
   "metadata": {},
   "outputs": [
    {
     "data": {
      "text/plain": [
       "Text(0.5, 1.0, 'Average Sales by Car Model')"
      ]
     },
     "execution_count": 57,
     "metadata": {},
     "output_type": "execute_result"
    },
    {
     "data": {
      "image/png": "[encoded data removed]",
      "text/plain": [
       "<Figure size 1800x400 with 1 Axes>"
      ]
     },
     "metadata": {},
     "output_type": "display_data"
    }
   ],
   "source": [
    "plt.figure(figsize = (18,4))\n",
    "bar_plot_2 = sns.barplot(data = avg_sales_by_car_model, x = 'Car Model', y = 'Sales', color = '#ddb892')\n",
    "\n",
    "for index, row in avg_sales_by_car_model.iterrows():\n",
    "    bar_plot_2.text(index, row.Sales-1, f'{row.Sales:,.1f} K', color = 'black',ha = 'center', va = 'top')\n",
    "\n",
    "plt.title('Average Sales by Car Model')"
   ]
  },
  {
   "cell_type": "code",
   "execution_count": null,
   "id": "d6b6f1d7-a09f-4be3-9963-98e5a78cb840",
   "metadata": {},
   "outputs": [],
   "source": []
  },
  {
   "cell_type": "code",
   "execution_count": null,
   "id": "85f03cc8-819e-4bec-b276-31c41b4c3764",
   "metadata": {},
   "outputs": [],
   "source": []
  },
  {
   "cell_type": "code",
   "execution_count": null,
   "id": "12b609a8-a6af-4b8d-a5a0-498a00f6eb0a",
   "metadata": {},
   "outputs": [],
   "source": []
  },
  {
   "cell_type": "code",
   "execution_count": null,
   "id": "9b8eede7-cb46-43c7-bca7-e476284049e3",
   "metadata": {},
   "outputs": [],
   "source": []
  },
  {
   "cell_type": "code",
   "execution_count": null,
   "id": "85e9dc46-13de-4e77-a72b-cf83c9dc3a01",
   "metadata": {},
   "outputs": [],
   "source": []
  },
  {
   "cell_type": "code",
   "execution_count": null,
   "id": "c0d7acc6-6ed1-463a-a4a3-ea381a175010",
   "metadata": {},
   "outputs": [],
   "source": []
  },
  {
   "cell_type": "code",
   "execution_count": null,
   "id": "d37ead79-5eeb-4a9f-b317-a5bb107f6a41",
   "metadata": {},
   "outputs": [],
   "source": []
  },
  {
   "cell_type": "code",
   "execution_count": null,
   "id": "8922de87-9c50-42d6-8cc1-5f34fd8bd6d2",
   "metadata": {},
   "outputs": [],
   "source": []
  }
 ],
 "metadata": {
  "kernelspec": {
   "display_name": "Python 3 (ipykernel)",
   "language": "python",
   "name": "python3"
  },
  "language_info": {
   "codemirror_mode": {
    "name": "ipython",
    "version": 3
   },
   "file_extension": ".py",
   "mimetype": "text/x-python",
   "name": "python",
   "nbconvert_exporter": "python",
   "pygments_lexer": "ipython3",
   "version": "3.10.0"
  }
 },
 "nbformat": 4,
 "nbformat_minor": 5
}
